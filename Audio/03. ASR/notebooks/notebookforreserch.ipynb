{
 "cells": [
  {
   "cell_type": "markdown",
   "metadata": {},
   "source": [
    "As I wrote in the readme, I want to create an ASR model based on deepspeech2.\n",
    "\n",
    "About this architecture:\n",
    "\n",
    "- [Paper Deep Speech 2](https://proceedings.mlr.press/v48/amodei16.pdf)\n",
    "- [Deep Speech 2 | Lecture 75 (Part 3)](https://www.youtube.com/watch?v=OAJNSJSQn-w&ab_channel=MaziarRaissi)"
   ]
  },
  {
   "cell_type": "markdown",
   "metadata": {},
   "source": []
  },
  {
   "cell_type": "markdown",
   "metadata": {},
   "source": [
    "### Project Structure"
   ]
  },
  {
   "cell_type": "markdown",
   "metadata": {},
   "source": []
  }
 ],
 "metadata": {
  "language_info": {
   "name": "python"
  }
 },
 "nbformat": 4,
 "nbformat_minor": 2
}
