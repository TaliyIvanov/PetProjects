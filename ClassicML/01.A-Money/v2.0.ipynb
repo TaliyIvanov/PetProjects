{
 "cells": [
  {
   "cell_type": "markdown",
   "id": "215d9a74-96c1-439e-8619-6201143ff252",
   "metadata": {},
   "source": [
    "Данный ноутбук является второй эпостасией попыток найти решение.\n",
    "\n",
    "Дабы не корректировать первый, зафиксировать те результаты, которых я достиг и возвращаться к ним при необходимости.\n",
    "\n",
    "Здесь для начала хочу получше разобраться с данными и фичами.\n",
    "\n",
    "Затем все таки нормализовать уменьшить размерность данных, нормализовать их, обучить алгоритмы LogReg, SVM, Decision Tree, CatBoost и произвести стэкинг и попытьася улучшить скор."
   ]
  },
  {
   "cell_type": "markdown",
   "id": "9425ff2d-5e18-4076-989a-ea74b07dc753",
   "metadata": {},
   "source": [
    "### Импорты"
   ]
  },
  {
   "cell_type": "code",
   "execution_count": 90,
   "id": "ebc38e7a-8b2f-478e-894e-3224e2f5ef7a",
   "metadata": {},
   "outputs": [],
   "source": [
    "import pandas as pd\n",
    "import numpy as np\n",
    "import seaborn as sns\n",
    "import matplotlib.pyplot as plt\n",
    "\n",
    "from sklearn.preprocessing import LabelEncoder\n",
    "from category_encoders.cat_boost import CatBoostEncoder\n",
    "\n",
    "import xgboost as xgb\n",
    "import lightgbm as lgb\n",
    "import catboost as cb\n",
    "from sklearn.model_selection import train_test_split, GridSearchCV\n",
    "from sklearn.metrics import f1_score\n",
    "from sklearn.utils.class_weight import compute_sample_weight\n",
    "from sklearn.preprocessing import StandardScaler\n",
    "from sklearn.decomposition import PCA\n",
    "\n",
    "from sklearn.metrics import accuracy_score, classification_report, f1_score\n",
    "\n",
    "from xgboost import XGBClassifier\n",
    "from catboost import CatBoostClassifier\n",
    "from lightgbm import LGBMClassifier\n",
    "\n",
    "import time\n",
    "import warnings\n",
    "from tqdm import tqdm\n",
    "\n",
    "from imblearn.over_sampling import SMOTE\n",
    "warnings.filterwarnings(\"ignore\")"
   ]
  },
  {
   "cell_type": "markdown",
   "id": "a7c33776-3dc6-4163-91b4-19021567f1b7",
   "metadata": {},
   "source": [
    "### Загрузка данных"
   ]
  },
  {
   "cell_type": "code",
   "execution_count": 39,
   "id": "7db8a1c6-505d-4fc7-82e0-5de3a8f3ba6f",
   "metadata": {},
   "outputs": [
    {
     "name": "stdout",
     "output_type": "stream",
     "text": [
      "Time is: 19.816019296646118 seconds\n"
     ]
    }
   ],
   "source": [
    "start = time.time()\n",
    "train = pd.read_csv('./data/train.csv')\n",
    "elapsed = time.time() - start\n",
    "print(f'Time is: {elapsed} seconds')"
   ]
  },
  {
   "cell_type": "code",
   "execution_count": 40,
   "id": "550f7191-82ff-4009-8708-35a4fadfd376",
   "metadata": {},
   "outputs": [
    {
     "name": "stdout",
     "output_type": "stream",
     "text": [
      "Time is: 5.831754207611084 seconds\n"
     ]
    }
   ],
   "source": [
    "start = time.time()\n",
    "test = pd.read_csv('./data/test.csv')\n",
    "elapsed = time.time() - start\n",
    "print(f'Time is: {elapsed} seconds')"
   ]
  },
  {
   "cell_type": "markdown",
   "id": "cbdafd96-3c4f-48eb-af5e-196a4e52f8c4",
   "metadata": {},
   "source": [
    "### Оптимизация"
   ]
  },
  {
   "cell_type": "code",
   "execution_count": 41,
   "id": "c87251c6-876f-43fd-ae3c-ff9518a4b386",
   "metadata": {},
   "outputs": [],
   "source": [
    "def optimize_data(df):\n",
    "    # оптимизируем числовые данные\n",
    "    for col in df.select_dtypes(include=['int64']).columns:\n",
    "        df[col] = pd.to_numeric(df[col], downcast='integer')\n",
    "    for col in df.select_dtypes(include=['float64']).columns:\n",
    "        df[col] = pd.to_numeric(df[col], downcast='float')\n",
    "\n",
    "    # Оптимизируем даты\n",
    "    df[\"created_at\"] = pd.to_datetime(df[\"created_at\"])\n",
    "    df[\"start_dt\"] = pd.to_datetime(df[\"start_dt\"])\n",
    "\n",
    "    return df"
   ]
  },
  {
   "cell_type": "code",
   "execution_count": 42,
   "id": "cdf44b21-c2d2-4993-921f-04cf9dea231f",
   "metadata": {},
   "outputs": [
    {
     "name": "stdout",
     "output_type": "stream",
     "text": [
      "Размер датасета до оптимизации: 3231.96 MB\n",
      "Размер датасета после оптимизации: 2150.51 MB\n"
     ]
    }
   ],
   "source": [
    "# Размер трейна до оптимизации\n",
    "print(f\"Размер датасета до оптимизации: {train.memory_usage(deep=True).sum() / (1024**2):.2f} MB\")\n",
    "train = optimize_data(train)\n",
    "# Размер трейна после оптимизации\n",
    "print(f\"Размер датасета после оптимизации: {train.memory_usage(deep=True).sum() / (1024**2):.2f} MB\")"
   ]
  },
  {
   "cell_type": "code",
   "execution_count": 43,
   "id": "943399ff-5359-4a81-87ba-92566996bf58",
   "metadata": {},
   "outputs": [
    {
     "name": "stdout",
     "output_type": "stream",
     "text": [
      "Размер датасета до оптимизации: 971.89 MB\n",
      "Размер датасета после оптимизации: 619.54 MB\n"
     ]
    }
   ],
   "source": [
    "# Размер теста до оптимизации\n",
    "print(f\"Размер датасета до оптимизации: {test.memory_usage(deep=True).sum() / (1024**2):.2f} MB\")\n",
    "test = optimize_data(test)\n",
    "# Размер теста после оптимизации\n",
    "print(f\"Размер датасета после оптимизации: {test.memory_usage(deep=True).sum() / (1024**2):.2f} MB\")"
   ]
  },
  {
   "cell_type": "code",
   "execution_count": null,
   "id": "31930f4c-4b21-4e1d-8084-53c13e7c0d56",
   "metadata": {},
   "outputs": [],
   "source": []
  },
  {
   "cell_type": "markdown",
   "id": "5b76b54b-bfe4-4edf-ac43-f32b5d0bb122",
   "metadata": {},
   "source": [
    "### EDA"
   ]
  },
  {
   "cell_type": "code",
   "execution_count": 44,
   "id": "a18b233d-2f32-47f0-b5de-636429c816d8",
   "metadata": {},
   "outputs": [],
   "source": [
    "# will drop the closed_at, because it isn't in test\n",
    "train.drop(['closed_at'], inplace=True, axis=1)"
   ]
  },
  {
   "cell_type": "code",
   "execution_count": 45,
   "id": "d3758752-5368-4695-8fd6-71d2745c20a5",
   "metadata": {},
   "outputs": [
    {
     "name": "stdout",
     "output_type": "stream",
     "text": [
      "<class 'pandas.core.frame.DataFrame'>\n",
      "RangeIndex: 4036207 entries, 0 to 4036206\n",
      "Data columns (total 44 columns):\n",
      " #   Column                 Dtype         \n",
      "---  ------                 -----         \n",
      " 0   monthly_income         float32       \n",
      " 1   work_experience        float32       \n",
      " 2   requested_sum          float32       \n",
      " 3   main_agreement_amount  float32       \n",
      " 4   main_agreement_term    float32       \n",
      " 5   requested_period_days  float32       \n",
      " 6   requested_amount       float32       \n",
      " 7   req_app_amount         float32       \n",
      " 8   approved_amount        float32       \n",
      " 9   period_days            float32       \n",
      " 10  days_finish_loan       float32       \n",
      " 11  ag                     float32       \n",
      " 12  cnt_ext                float32       \n",
      " 13  term                   float32       \n",
      " 14  price                  float32       \n",
      " 15  elecs_sum              float32       \n",
      " 16  recurents_sum          float32       \n",
      " 17  tamount                float32       \n",
      " 18  issues                 float32       \n",
      " 19  principal              float32       \n",
      " 20  interest               float32       \n",
      " 21  overdue_interest       float32       \n",
      " 22  overdue_fee            float32       \n",
      " 23  nbki_score             float32       \n",
      " 24  payment_frequency      int8          \n",
      " 25  status                 int8          \n",
      " 26  loan_id                int32         \n",
      " 27  client_id              int32         \n",
      " 28  source                 int8          \n",
      " 29  first_source           int8          \n",
      " 30  interface              int8          \n",
      " 31  type                   int8          \n",
      " 32  repayment_type         int8          \n",
      " 33  client_type            int8          \n",
      " 34  settlement             object        \n",
      " 35  client_type.1          object        \n",
      " 36  region                 object        \n",
      " 37  gender                 object        \n",
      " 38  loan_order             int16         \n",
      " 39  have_extension         int8          \n",
      " 40  contact_cases          float32       \n",
      " 41  created_at             datetime64[ns]\n",
      " 42  start_dt               datetime64[ns]\n",
      " 43  churn                  int8          \n",
      "dtypes: datetime64[ns](2), float32(25), int16(1), int32(2), int8(10), object(4)\n",
      "memory usage: 646.7+ MB\n"
     ]
    }
   ],
   "source": [
    "train.info()"
   ]
  },
  {
   "cell_type": "markdown",
   "id": "3167b91a-dc8d-4625-9deb-4e262d3807ca",
   "metadata": {},
   "source": [
    "Я не разбирался с пропусками детально, а просто дропал столбики, где пропусков было прям много.\n",
    "\n",
    "Такие значения можно не дропать, а заменить на 0 / 'unknown'\n",
    "\n",
    "Взглянем на столбики, в которых пропущены значения"
   ]
  },
  {
   "cell_type": "code",
   "execution_count": 9,
   "id": "ba95e861-4bff-4614-a82c-0ce3efbc32a7",
   "metadata": {},
   "outputs": [
    {
     "data": {
      "text/plain": [
       "monthly_income               207\n",
       "work_experience          2648360\n",
       "requested_sum            3546390\n",
       "main_agreement_amount          0\n",
       "main_agreement_term            0\n",
       "requested_period_days     441618\n",
       "requested_amount          414836\n",
       "req_app_amount            414836\n",
       "approved_amount                0\n",
       "period_days                    0\n",
       "days_finish_loan               0\n",
       "ag                             0\n",
       "cnt_ext                  3582556\n",
       "term                     3582556\n",
       "price                    3582816\n",
       "elecs_sum                   5794\n",
       "recurents_sum               5794\n",
       "tamount                     1774\n",
       "issues                         0\n",
       "principal                      0\n",
       "interest                       0\n",
       "overdue_interest               0\n",
       "overdue_fee                    0\n",
       "nbki_score                 84476\n",
       "payment_frequency              0\n",
       "status                         0\n",
       "loan_id                        0\n",
       "client_id                      0\n",
       "source                         0\n",
       "first_source                   0\n",
       "interface                      0\n",
       "type                           0\n",
       "repayment_type                 0\n",
       "client_type                    0\n",
       "settlement                     0\n",
       "client_type.1                  0\n",
       "region                         0\n",
       "gender                         0\n",
       "loan_order                     0\n",
       "have_extension                 0\n",
       "contact_cases            3810290\n",
       "created_at                     0\n",
       "start_dt                 3581930\n",
       "churn                          0\n",
       "dtype: int64"
      ]
     },
     "execution_count": 9,
     "metadata": {},
     "output_type": "execute_result"
    }
   ],
   "source": [
    "train.isnull().sum()"
   ]
  },
  {
   "cell_type": "markdown",
   "id": "02c15b44-b0fc-4a0c-ba29-f7e2eeff15d9",
   "metadata": {},
   "source": [
    "Есть небольшие пропуски в некоторых столбцах, а в некоторых прям ПРИЛИЧНЫЕ.\n",
    "\n",
    "Отличились следующие фичи:\n",
    "- work_experience - стаж - 65% пропусков\n",
    "- requested_sum - запрашиваемая сумма клиента для займа - 88% пропусков\n",
    "- cnt_ext - кол-во пролонгаций по займу - 89% пропусков\n",
    "- term - срок пролонгации (список) - 89% пропусков\n",
    "- price -  цена пролонгации (список) - 89% пропусков\n",
    "- start_dt  -  дата начала (список) пролонгаций по займу - 89% пропусков\n",
    "- contact_cases - кол-во обращений клиента с коллекшн - 94% пропусков\n",
    "\n",
    "Надо их разобрать."
   ]
  },
  {
   "cell_type": "code",
   "execution_count": 46,
   "id": "93511ca7-542b-48db-89bf-9312bcd6b1d5",
   "metadata": {},
   "outputs": [],
   "source": [
    "some_null = ['monthly_income', 'elecs_sum', 'recurents_sum', 'tamount', 'nbki_score','requested_period_days', 'requested_amount', 'req_app_amount']\n",
    "many_null = ['work_experience','requested_sum','cnt_ext','term','price','contact_cases','start_dt']"
   ]
  },
  {
   "cell_type": "code",
   "execution_count": 47,
   "id": "a3670274-e714-407a-8770-092894282207",
   "metadata": {},
   "outputs": [
    {
     "data": {
      "text/html": [
       "<div>\n",
       "<style scoped>\n",
       "    .dataframe tbody tr th:only-of-type {\n",
       "        vertical-align: middle;\n",
       "    }\n",
       "\n",
       "    .dataframe tbody tr th {\n",
       "        vertical-align: top;\n",
       "    }\n",
       "\n",
       "    .dataframe thead th {\n",
       "        text-align: right;\n",
       "    }\n",
       "</style>\n",
       "<table border=\"1\" class=\"dataframe\">\n",
       "  <thead>\n",
       "    <tr style=\"text-align: right;\">\n",
       "      <th></th>\n",
       "      <th>monthly_income</th>\n",
       "      <th>elecs_sum</th>\n",
       "      <th>recurents_sum</th>\n",
       "      <th>tamount</th>\n",
       "      <th>nbki_score</th>\n",
       "      <th>requested_period_days</th>\n",
       "      <th>requested_amount</th>\n",
       "      <th>req_app_amount</th>\n",
       "    </tr>\n",
       "  </thead>\n",
       "  <tbody>\n",
       "    <tr>\n",
       "      <th>0</th>\n",
       "      <td>-0.000735</td>\n",
       "      <td>-0.063933</td>\n",
       "      <td>-0.143015</td>\n",
       "      <td>-0.434972</td>\n",
       "      <td>1.837623</td>\n",
       "      <td>-0.389028</td>\n",
       "      <td>-1.053530</td>\n",
       "      <td>-0.629296</td>\n",
       "    </tr>\n",
       "    <tr>\n",
       "      <th>1</th>\n",
       "      <td>-0.000742</td>\n",
       "      <td>-0.063933</td>\n",
       "      <td>-0.143015</td>\n",
       "      <td>-0.434972</td>\n",
       "      <td>2.262600</td>\n",
       "      <td>-1.294731</td>\n",
       "      <td>-0.436189</td>\n",
       "      <td>-0.020140</td>\n",
       "    </tr>\n",
       "    <tr>\n",
       "      <th>2</th>\n",
       "      <td>-0.000742</td>\n",
       "      <td>-0.063933</td>\n",
       "      <td>-0.143015</td>\n",
       "      <td>-0.429509</td>\n",
       "      <td>2.262600</td>\n",
       "      <td>-1.113590</td>\n",
       "      <td>-0.259806</td>\n",
       "      <td>0.153905</td>\n",
       "    </tr>\n",
       "    <tr>\n",
       "      <th>3</th>\n",
       "      <td>-0.000742</td>\n",
       "      <td>-0.063933</td>\n",
       "      <td>-0.143015</td>\n",
       "      <td>-0.413118</td>\n",
       "      <td>2.262600</td>\n",
       "      <td>-1.385301</td>\n",
       "      <td>1.239449</td>\n",
       "      <td>1.633284</td>\n",
       "    </tr>\n",
       "    <tr>\n",
       "      <th>4</th>\n",
       "      <td>-0.000742</td>\n",
       "      <td>-0.063933</td>\n",
       "      <td>-0.143015</td>\n",
       "      <td>-0.320236</td>\n",
       "      <td>2.262600</td>\n",
       "      <td>-1.657011</td>\n",
       "      <td>0.357534</td>\n",
       "      <td>0.763061</td>\n",
       "    </tr>\n",
       "    <tr>\n",
       "      <th>...</th>\n",
       "      <td>...</td>\n",
       "      <td>...</td>\n",
       "      <td>...</td>\n",
       "      <td>...</td>\n",
       "      <td>...</td>\n",
       "      <td>...</td>\n",
       "      <td>...</td>\n",
       "      <td>...</td>\n",
       "    </tr>\n",
       "    <tr>\n",
       "      <th>4036202</th>\n",
       "      <td>-0.000747</td>\n",
       "      <td>-0.063933</td>\n",
       "      <td>-0.143015</td>\n",
       "      <td>-0.252851</td>\n",
       "      <td>0.866246</td>\n",
       "      <td>NaN</td>\n",
       "      <td>NaN</td>\n",
       "      <td>NaN</td>\n",
       "    </tr>\n",
       "    <tr>\n",
       "      <th>4036203</th>\n",
       "      <td>-0.000747</td>\n",
       "      <td>-0.063933</td>\n",
       "      <td>-0.143015</td>\n",
       "      <td>-0.708154</td>\n",
       "      <td>-1.180584</td>\n",
       "      <td>0.426103</td>\n",
       "      <td>-1.141721</td>\n",
       "      <td>-1.064407</td>\n",
       "    </tr>\n",
       "    <tr>\n",
       "      <th>4036204</th>\n",
       "      <td>-0.000739</td>\n",
       "      <td>-0.063933</td>\n",
       "      <td>-0.143015</td>\n",
       "      <td>0.202452</td>\n",
       "      <td>-0.100794</td>\n",
       "      <td>NaN</td>\n",
       "      <td>NaN</td>\n",
       "      <td>NaN</td>\n",
       "    </tr>\n",
       "    <tr>\n",
       "      <th>4036205</th>\n",
       "      <td>-0.000730</td>\n",
       "      <td>-0.063933</td>\n",
       "      <td>-0.143015</td>\n",
       "      <td>0.111392</td>\n",
       "      <td>0.367548</td>\n",
       "      <td>0.426103</td>\n",
       "      <td>-0.083423</td>\n",
       "      <td>-0.194184</td>\n",
       "    </tr>\n",
       "    <tr>\n",
       "      <th>4036206</th>\n",
       "      <td>-0.000738</td>\n",
       "      <td>-0.063933</td>\n",
       "      <td>-0.143015</td>\n",
       "      <td>0.339043</td>\n",
       "      <td>0.063993</td>\n",
       "      <td>NaN</td>\n",
       "      <td>NaN</td>\n",
       "      <td>NaN</td>\n",
       "    </tr>\n",
       "  </tbody>\n",
       "</table>\n",
       "<p>4036207 rows × 8 columns</p>\n",
       "</div>"
      ],
      "text/plain": [
       "         monthly_income  elecs_sum  recurents_sum   tamount  nbki_score  \\\n",
       "0             -0.000735  -0.063933      -0.143015 -0.434972    1.837623   \n",
       "1             -0.000742  -0.063933      -0.143015 -0.434972    2.262600   \n",
       "2             -0.000742  -0.063933      -0.143015 -0.429509    2.262600   \n",
       "3             -0.000742  -0.063933      -0.143015 -0.413118    2.262600   \n",
       "4             -0.000742  -0.063933      -0.143015 -0.320236    2.262600   \n",
       "...                 ...        ...            ...       ...         ...   \n",
       "4036202       -0.000747  -0.063933      -0.143015 -0.252851    0.866246   \n",
       "4036203       -0.000747  -0.063933      -0.143015 -0.708154   -1.180584   \n",
       "4036204       -0.000739  -0.063933      -0.143015  0.202452   -0.100794   \n",
       "4036205       -0.000730  -0.063933      -0.143015  0.111392    0.367548   \n",
       "4036206       -0.000738  -0.063933      -0.143015  0.339043    0.063993   \n",
       "\n",
       "         requested_period_days  requested_amount  req_app_amount  \n",
       "0                    -0.389028         -1.053530       -0.629296  \n",
       "1                    -1.294731         -0.436189       -0.020140  \n",
       "2                    -1.113590         -0.259806        0.153905  \n",
       "3                    -1.385301          1.239449        1.633284  \n",
       "4                    -1.657011          0.357534        0.763061  \n",
       "...                        ...               ...             ...  \n",
       "4036202                    NaN               NaN             NaN  \n",
       "4036203               0.426103         -1.141721       -1.064407  \n",
       "4036204                    NaN               NaN             NaN  \n",
       "4036205               0.426103         -0.083423       -0.194184  \n",
       "4036206                    NaN               NaN             NaN  \n",
       "\n",
       "[4036207 rows x 8 columns]"
      ]
     },
     "execution_count": 47,
     "metadata": {},
     "output_type": "execute_result"
    }
   ],
   "source": [
    "train[some_null]"
   ]
  },
  {
   "cell_type": "markdown",
   "id": "b9f7fa48-1099-4720-a017-dc740efc3093",
   "metadata": {},
   "source": [
    "Данные, где небольшое кол-во пропусков заполню средними значениями по данными фичам."
   ]
  },
  {
   "cell_type": "code",
   "execution_count": 48,
   "id": "c55ce308-9344-4059-93f7-3b98823657d9",
   "metadata": {},
   "outputs": [
    {
     "data": {
      "text/html": [
       "<div>\n",
       "<style scoped>\n",
       "    .dataframe tbody tr th:only-of-type {\n",
       "        vertical-align: middle;\n",
       "    }\n",
       "\n",
       "    .dataframe tbody tr th {\n",
       "        vertical-align: top;\n",
       "    }\n",
       "\n",
       "    .dataframe thead th {\n",
       "        text-align: right;\n",
       "    }\n",
       "</style>\n",
       "<table border=\"1\" class=\"dataframe\">\n",
       "  <thead>\n",
       "    <tr style=\"text-align: right;\">\n",
       "      <th></th>\n",
       "      <th>work_experience</th>\n",
       "      <th>requested_sum</th>\n",
       "      <th>cnt_ext</th>\n",
       "      <th>term</th>\n",
       "      <th>price</th>\n",
       "      <th>contact_cases</th>\n",
       "      <th>start_dt</th>\n",
       "    </tr>\n",
       "  </thead>\n",
       "  <tbody>\n",
       "    <tr>\n",
       "      <th>0</th>\n",
       "      <td>0.952894</td>\n",
       "      <td>NaN</td>\n",
       "      <td>NaN</td>\n",
       "      <td>NaN</td>\n",
       "      <td>NaN</td>\n",
       "      <td>NaN</td>\n",
       "      <td>NaT</td>\n",
       "    </tr>\n",
       "    <tr>\n",
       "      <th>1</th>\n",
       "      <td>0.952894</td>\n",
       "      <td>NaN</td>\n",
       "      <td>NaN</td>\n",
       "      <td>NaN</td>\n",
       "      <td>NaN</td>\n",
       "      <td>NaN</td>\n",
       "      <td>NaT</td>\n",
       "    </tr>\n",
       "    <tr>\n",
       "      <th>2</th>\n",
       "      <td>0.952894</td>\n",
       "      <td>NaN</td>\n",
       "      <td>NaN</td>\n",
       "      <td>NaN</td>\n",
       "      <td>NaN</td>\n",
       "      <td>NaN</td>\n",
       "      <td>NaT</td>\n",
       "    </tr>\n",
       "    <tr>\n",
       "      <th>3</th>\n",
       "      <td>0.952894</td>\n",
       "      <td>NaN</td>\n",
       "      <td>NaN</td>\n",
       "      <td>NaN</td>\n",
       "      <td>NaN</td>\n",
       "      <td>NaN</td>\n",
       "      <td>2024-01-12 17:29:21</td>\n",
       "    </tr>\n",
       "    <tr>\n",
       "      <th>4</th>\n",
       "      <td>0.952894</td>\n",
       "      <td>NaN</td>\n",
       "      <td>1.407752</td>\n",
       "      <td>-0.612324</td>\n",
       "      <td>-0.705103</td>\n",
       "      <td>NaN</td>\n",
       "      <td>NaT</td>\n",
       "    </tr>\n",
       "    <tr>\n",
       "      <th>...</th>\n",
       "      <td>...</td>\n",
       "      <td>...</td>\n",
       "      <td>...</td>\n",
       "      <td>...</td>\n",
       "      <td>...</td>\n",
       "      <td>...</td>\n",
       "      <td>...</td>\n",
       "    </tr>\n",
       "    <tr>\n",
       "      <th>4036202</th>\n",
       "      <td>NaN</td>\n",
       "      <td>-0.592014</td>\n",
       "      <td>NaN</td>\n",
       "      <td>NaN</td>\n",
       "      <td>NaN</td>\n",
       "      <td>NaN</td>\n",
       "      <td>NaT</td>\n",
       "    </tr>\n",
       "    <tr>\n",
       "      <th>4036203</th>\n",
       "      <td>0.084114</td>\n",
       "      <td>NaN</td>\n",
       "      <td>NaN</td>\n",
       "      <td>NaN</td>\n",
       "      <td>NaN</td>\n",
       "      <td>NaN</td>\n",
       "      <td>NaT</td>\n",
       "    </tr>\n",
       "    <tr>\n",
       "      <th>4036204</th>\n",
       "      <td>NaN</td>\n",
       "      <td>-0.592014</td>\n",
       "      <td>NaN</td>\n",
       "      <td>NaN</td>\n",
       "      <td>NaN</td>\n",
       "      <td>NaN</td>\n",
       "      <td>NaT</td>\n",
       "    </tr>\n",
       "    <tr>\n",
       "      <th>4036205</th>\n",
       "      <td>0.084114</td>\n",
       "      <td>NaN</td>\n",
       "      <td>NaN</td>\n",
       "      <td>NaN</td>\n",
       "      <td>NaN</td>\n",
       "      <td>NaN</td>\n",
       "      <td>NaT</td>\n",
       "    </tr>\n",
       "    <tr>\n",
       "      <th>4036206</th>\n",
       "      <td>NaN</td>\n",
       "      <td>-0.592014</td>\n",
       "      <td>NaN</td>\n",
       "      <td>NaN</td>\n",
       "      <td>NaN</td>\n",
       "      <td>NaN</td>\n",
       "      <td>NaT</td>\n",
       "    </tr>\n",
       "  </tbody>\n",
       "</table>\n",
       "<p>4036207 rows × 7 columns</p>\n",
       "</div>"
      ],
      "text/plain": [
       "         work_experience  requested_sum   cnt_ext      term     price  \\\n",
       "0               0.952894            NaN       NaN       NaN       NaN   \n",
       "1               0.952894            NaN       NaN       NaN       NaN   \n",
       "2               0.952894            NaN       NaN       NaN       NaN   \n",
       "3               0.952894            NaN       NaN       NaN       NaN   \n",
       "4               0.952894            NaN  1.407752 -0.612324 -0.705103   \n",
       "...                  ...            ...       ...       ...       ...   \n",
       "4036202              NaN      -0.592014       NaN       NaN       NaN   \n",
       "4036203         0.084114            NaN       NaN       NaN       NaN   \n",
       "4036204              NaN      -0.592014       NaN       NaN       NaN   \n",
       "4036205         0.084114            NaN       NaN       NaN       NaN   \n",
       "4036206              NaN      -0.592014       NaN       NaN       NaN   \n",
       "\n",
       "         contact_cases            start_dt  \n",
       "0                  NaN                 NaT  \n",
       "1                  NaN                 NaT  \n",
       "2                  NaN                 NaT  \n",
       "3                  NaN 2024-01-12 17:29:21  \n",
       "4                  NaN                 NaT  \n",
       "...                ...                 ...  \n",
       "4036202            NaN                 NaT  \n",
       "4036203            NaN                 NaT  \n",
       "4036204            NaN                 NaT  \n",
       "4036205            NaN                 NaT  \n",
       "4036206            NaN                 NaT  \n",
       "\n",
       "[4036207 rows x 7 columns]"
      ]
     },
     "execution_count": 48,
     "metadata": {},
     "output_type": "execute_result"
    }
   ],
   "source": [
    "train[many_null]"
   ]
  },
  {
   "cell_type": "code",
   "execution_count": 49,
   "id": "7dfd5f53-1a4b-44da-8e50-281740e681d9",
   "metadata": {},
   "outputs": [
    {
     "data": {
      "text/plain": [
       "64.0"
      ]
     },
     "execution_count": 49,
     "metadata": {},
     "output_type": "execute_result"
    }
   ],
   "source": [
    "train['contact_cases'].max()"
   ]
  },
  {
   "cell_type": "markdown",
   "id": "8e61da67-d211-4377-86cb-f785daf53665",
   "metadata": {},
   "source": [
    "\n",
    "`Пролонгация займа - это возможность продлить срок возврата взятого кредита без необходимости полного его погашения.`\n",
    "\n",
    "То есть, увеличение срока кредита, по тем или иным обстоятельствам.\n",
    "\n",
    "Соответственно, я думаю, что фичи:\n",
    "- cnt_ext - кол-во пролонгаций по займу - 89% пропусков\n",
    "- term - срок пролонгации (список) - 89% пропусков\n",
    "- price -  цена пролонгации (список) - 89% пропусков\n",
    "- start_dt  -  дата начала (список) пролонгаций по займу - 89% пропусков\n",
    "\n",
    "По сути будут сильнокоррелировать.\n",
    "\n",
    "Необходимо пропуски заполнить 0, оставив только cnt_ext\n",
    "\n",
    "- пропущенные в 'contact_cases' так же заполняем нулями.\n",
    "\n",
    "- пропуски в 'work_experience' так же заполню нулями"
   ]
  },
  {
   "cell_type": "markdown",
   "id": "5aa83b9c-1cb0-47f1-8feb-03cde5843a9c",
   "metadata": {},
   "source": [
    "#### Обработка пропусков"
   ]
  },
  {
   "cell_type": "code",
   "execution_count": 50,
   "id": "935cffbe-dc1d-47fe-aa54-119c1d60c0dc",
   "metadata": {},
   "outputs": [],
   "source": [
    "droplist = ['term','price','start_dt','client_type.1']\n",
    "zeroslist = ['cnt_ext','contact_cases', 'work_experience', 'requested_sum'] + some_null"
   ]
  },
  {
   "cell_type": "code",
   "execution_count": 51,
   "id": "5565039a-6d85-4ab6-9b0b-a4494e5f8921",
   "metadata": {},
   "outputs": [],
   "source": [
    "train.drop(axis=1, labels=droplist, inplace=True)\n",
    "test.drop(axis=1, labels=droplist, inplace=True)"
   ]
  },
  {
   "cell_type": "code",
   "execution_count": 52,
   "id": "5eaf3608-2ba0-44a5-8191-6bbefb38b878",
   "metadata": {},
   "outputs": [],
   "source": [
    "# заполняем нулями все подряд\n",
    "train[zeroslist] = train[zeroslist].fillna(0)\n",
    "test[zeroslist] = test[zeroslist].fillna(0)"
   ]
  },
  {
   "cell_type": "code",
   "execution_count": 53,
   "id": "3d467e3e-df30-4949-b13b-16591efa53f9",
   "metadata": {},
   "outputs": [
    {
     "data": {
      "text/plain": [
       "monthly_income           0\n",
       "work_experience          0\n",
       "requested_sum            0\n",
       "main_agreement_amount    0\n",
       "main_agreement_term      0\n",
       "requested_period_days    0\n",
       "requested_amount         0\n",
       "req_app_amount           0\n",
       "approved_amount          0\n",
       "period_days              0\n",
       "days_finish_loan         0\n",
       "ag                       0\n",
       "cnt_ext                  0\n",
       "elecs_sum                0\n",
       "recurents_sum            0\n",
       "tamount                  0\n",
       "issues                   0\n",
       "principal                0\n",
       "interest                 0\n",
       "overdue_interest         0\n",
       "overdue_fee              0\n",
       "nbki_score               0\n",
       "payment_frequency        0\n",
       "status                   0\n",
       "loan_id                  0\n",
       "client_id                0\n",
       "source                   0\n",
       "first_source             0\n",
       "interface                0\n",
       "type                     0\n",
       "repayment_type           0\n",
       "client_type              0\n",
       "settlement               0\n",
       "region                   0\n",
       "gender                   0\n",
       "loan_order               0\n",
       "have_extension           0\n",
       "contact_cases            0\n",
       "created_at               0\n",
       "churn                    0\n",
       "dtype: int64"
      ]
     },
     "execution_count": 53,
     "metadata": {},
     "output_type": "execute_result"
    }
   ],
   "source": [
    "train.isnull().sum()"
   ]
  },
  {
   "cell_type": "markdown",
   "id": "72ffb482-dbda-4b97-bd3a-f2f55a6e2aac",
   "metadata": {},
   "source": [
    "### Обработка категориальных фичей"
   ]
  },
  {
   "cell_type": "markdown",
   "id": "12de3c5c-7523-4300-8841-1821fcb12665",
   "metadata": {},
   "source": [
    "#### Бинарные признаки"
   ]
  },
  {
   "cell_type": "code",
   "execution_count": 57,
   "id": "dd076e18-5fc5-426b-a34c-bb1d851a2b02",
   "metadata": {},
   "outputs": [],
   "source": [
    "# удаляем регион\n",
    "# для трейна\n",
    "train.drop(columns=['region'], inplace=True)\n",
    "# для теста\n",
    "test.drop(columns=['region'], inplace=True)"
   ]
  },
  {
   "cell_type": "code",
   "execution_count": 60,
   "id": "633ea3e8-404b-42e4-8f25-580108c1b6fd",
   "metadata": {},
   "outputs": [],
   "source": [
    "# кодируем бинарные признаки для трейна\n",
    "label_enc_cols = ['gender']\n",
    "for col in label_enc_cols:\n",
    "    le = LabelEncoder()\n",
    "    train[col] = le.fit_transform(train[col])"
   ]
  },
  {
   "cell_type": "code",
   "execution_count": 61,
   "id": "50a281be-21b5-4221-9833-5a4a37b5b079",
   "metadata": {},
   "outputs": [],
   "source": [
    "# кодируем бинарные признаки для теста\n",
    "label_enc_cols = ['gender']\n",
    "for col in label_enc_cols:\n",
    "    le = LabelEncoder()\n",
    "    test[col] = le.fit_transform(test[col])"
   ]
  },
  {
   "cell_type": "markdown",
   "id": "068e745a-7228-48e6-93b6-6877fcca3d6a",
   "metadata": {},
   "source": [
    "#### CatBoost Encoding\n",
    "\n",
    "Города сильно различаются, поэтому **One-Hot Encoding не подойдёт** (слишком много новых фич).\n",
    "\n",
    "CatBoost Encoding (учитывает вероятности, полезно для ML-моделей)."
   ]
  },
  {
   "cell_type": "code",
   "execution_count": 63,
   "id": "c5e38bec-28c9-4744-b375-5dca9165bbd3",
   "metadata": {},
   "outputs": [],
   "source": [
    "cat_enc = CatBoostEncoder()\n",
    "train['settlement'] = cat_enc.fit_transform(train['settlement'], train['churn'])"
   ]
  },
  {
   "cell_type": "code",
   "execution_count": 64,
   "id": "e504e7f5-2337-4492-854d-02949326cf45",
   "metadata": {},
   "outputs": [],
   "source": [
    "# Применяем обученный энкодер к test (без .fit!)\n",
    "test['settlement'] = cat_enc.transform(test['settlement'])"
   ]
  },
  {
   "cell_type": "markdown",
   "id": "0fc8986e-c269-48cd-848e-13cf02ce0267",
   "metadata": {},
   "source": [
    "#### дата\n",
    "Даты нельзя просто так закодировать.\n",
    "\n",
    "От них нужно или отказаться или же выделить полезные числовые признаки.\n",
    "\n",
    "Получим новые признаки, а исходные столбцы удалим"
   ]
  },
  {
   "cell_type": "code",
   "execution_count": 55,
   "id": "4daafcde-aac3-4093-9c71-151e7777ebc2",
   "metadata": {},
   "outputs": [],
   "source": [
    "# для трейна\n",
    "train['created_at'] = pd.to_datetime(train['created_at'])\n",
    "\n",
    "# День, месяц, год, день недели\n",
    "train['created_day'] = train['created_at'].dt.day\n",
    "train['created_month'] = train['created_at'].dt.month\n",
    "train['created_weekday'] = train['created_at'].dt.weekday  # 0 = Понедельник, 6 = Воскресенье\n",
    "\n",
    "# Удаление изначальных столбцов\n",
    "train.drop(columns=['created_at'], inplace=True)"
   ]
  },
  {
   "cell_type": "code",
   "execution_count": 56,
   "id": "0e37f2dd-ac60-4adb-b4e0-879bded2de9c",
   "metadata": {},
   "outputs": [],
   "source": [
    "# для теста\n",
    "test['created_at'] = pd.to_datetime(test['created_at'])\n",
    "\n",
    "# День, месяц, год, день недели\n",
    "test['created_day'] = test['created_at'].dt.day\n",
    "test['created_month'] = test['created_at'].dt.month\n",
    "test['created_weekday'] = test['created_at'].dt.weekday  # 0 = Понедельник, 6 = Воскресенье\n",
    "\n",
    "# Удаление изначальных столбцов\n",
    "test.drop(columns=['created_at'], inplace=True)"
   ]
  },
  {
   "cell_type": "code",
   "execution_count": 66,
   "id": "38d27ffd-20cd-499d-b728-ebaa321d353c",
   "metadata": {},
   "outputs": [
    {
     "data": {
      "text/html": [
       "<div>\n",
       "<style scoped>\n",
       "    .dataframe tbody tr th:only-of-type {\n",
       "        vertical-align: middle;\n",
       "    }\n",
       "\n",
       "    .dataframe tbody tr th {\n",
       "        vertical-align: top;\n",
       "    }\n",
       "\n",
       "    .dataframe thead th {\n",
       "        text-align: right;\n",
       "    }\n",
       "</style>\n",
       "<table border=\"1\" class=\"dataframe\">\n",
       "  <thead>\n",
       "    <tr style=\"text-align: right;\">\n",
       "      <th></th>\n",
       "      <th>settlement</th>\n",
       "      <th>gender</th>\n",
       "      <th>created_day</th>\n",
       "      <th>created_month</th>\n",
       "      <th>created_weekday</th>\n",
       "    </tr>\n",
       "  </thead>\n",
       "  <tbody>\n",
       "    <tr>\n",
       "      <th>0</th>\n",
       "      <td>0.293872</td>\n",
       "      <td>1</td>\n",
       "      <td>23</td>\n",
       "      <td>12</td>\n",
       "      <td>4</td>\n",
       "    </tr>\n",
       "    <tr>\n",
       "      <th>1</th>\n",
       "      <td>0.146936</td>\n",
       "      <td>0</td>\n",
       "      <td>29</td>\n",
       "      <td>6</td>\n",
       "      <td>5</td>\n",
       "    </tr>\n",
       "    <tr>\n",
       "      <th>2</th>\n",
       "      <td>0.293872</td>\n",
       "      <td>1</td>\n",
       "      <td>10</td>\n",
       "      <td>4</td>\n",
       "      <td>0</td>\n",
       "    </tr>\n",
       "    <tr>\n",
       "      <th>3</th>\n",
       "      <td>0.293872</td>\n",
       "      <td>0</td>\n",
       "      <td>1</td>\n",
       "      <td>10</td>\n",
       "      <td>6</td>\n",
       "    </tr>\n",
       "    <tr>\n",
       "      <th>4</th>\n",
       "      <td>0.097957</td>\n",
       "      <td>0</td>\n",
       "      <td>15</td>\n",
       "      <td>7</td>\n",
       "      <td>0</td>\n",
       "    </tr>\n",
       "    <tr>\n",
       "      <th>...</th>\n",
       "      <td>...</td>\n",
       "      <td>...</td>\n",
       "      <td>...</td>\n",
       "      <td>...</td>\n",
       "      <td>...</td>\n",
       "    </tr>\n",
       "    <tr>\n",
       "      <th>4036202</th>\n",
       "      <td>0.256162</td>\n",
       "      <td>0</td>\n",
       "      <td>3</td>\n",
       "      <td>5</td>\n",
       "      <td>2</td>\n",
       "    </tr>\n",
       "    <tr>\n",
       "      <th>4036203</th>\n",
       "      <td>0.263662</td>\n",
       "      <td>0</td>\n",
       "      <td>13</td>\n",
       "      <td>9</td>\n",
       "      <td>2</td>\n",
       "    </tr>\n",
       "    <tr>\n",
       "      <th>4036204</th>\n",
       "      <td>0.287153</td>\n",
       "      <td>1</td>\n",
       "      <td>13</td>\n",
       "      <td>12</td>\n",
       "      <td>2</td>\n",
       "    </tr>\n",
       "    <tr>\n",
       "      <th>4036205</th>\n",
       "      <td>0.275080</td>\n",
       "      <td>1</td>\n",
       "      <td>27</td>\n",
       "      <td>8</td>\n",
       "      <td>1</td>\n",
       "    </tr>\n",
       "    <tr>\n",
       "      <th>4036206</th>\n",
       "      <td>0.287150</td>\n",
       "      <td>0</td>\n",
       "      <td>28</td>\n",
       "      <td>3</td>\n",
       "      <td>3</td>\n",
       "    </tr>\n",
       "  </tbody>\n",
       "</table>\n",
       "<p>4036207 rows × 5 columns</p>\n",
       "</div>"
      ],
      "text/plain": [
       "         settlement  gender  created_day  created_month  created_weekday\n",
       "0          0.293872       1           23             12                4\n",
       "1          0.146936       0           29              6                5\n",
       "2          0.293872       1           10              4                0\n",
       "3          0.293872       0            1             10                6\n",
       "4          0.097957       0           15              7                0\n",
       "...             ...     ...          ...            ...              ...\n",
       "4036202    0.256162       0            3              5                2\n",
       "4036203    0.263662       0           13              9                2\n",
       "4036204    0.287153       1           13             12                2\n",
       "4036205    0.275080       1           27              8                1\n",
       "4036206    0.287150       0           28              3                3\n",
       "\n",
       "[4036207 rows x 5 columns]"
      ]
     },
     "execution_count": 66,
     "metadata": {},
     "output_type": "execute_result"
    }
   ],
   "source": [
    "# взглянем на обновленные категориальные фичи!\n",
    "cat_cols = ['settlement','gender', 'created_day','created_month','created_weekday']\n",
    "train[cat_cols]"
   ]
  },
  {
   "cell_type": "markdown",
   "id": "d12e7fe6-a0e4-427c-9af0-04914e56e561",
   "metadata": {},
   "source": [
    "### Баланс классов"
   ]
  },
  {
   "cell_type": "code",
   "execution_count": 75,
   "id": "01544213-cba4-4354-9edb-99285724d2b2",
   "metadata": {},
   "outputs": [
    {
     "data": {
      "text/plain": [
       "churn\n",
       "0    2850077\n",
       "1    1186130\n",
       "Name: count, dtype: int64"
      ]
     },
     "execution_count": 75,
     "metadata": {},
     "output_type": "execute_result"
    }
   ],
   "source": [
    "train['churn'].value_counts()"
   ]
  },
  {
   "cell_type": "code",
   "execution_count": 76,
   "id": "191cf5bc-bb07-4b05-bedd-996211e4a730",
   "metadata": {},
   "outputs": [],
   "source": [
    "# Разделяем классы\n",
    "churn_0 = train[train['churn'] == 0]\n",
    "churn_1 = train[train['churn'] == 1]"
   ]
  },
  {
   "cell_type": "code",
   "execution_count": 77,
   "id": "229cd20e-694e-44f0-8fdb-6004ceb14ca4",
   "metadata": {},
   "outputs": [],
   "source": [
    "# **Undersampling:** случайно удаляем 831973 записей класса 0\n",
    "churn_0_sampled = churn_0.sample(n=len(churn_0) - 831973, random_state=42)"
   ]
  },
  {
   "cell_type": "code",
   "execution_count": 78,
   "id": "64eeafbc-eb5f-41ca-9db3-3badcb58e99a",
   "metadata": {},
   "outputs": [],
   "source": [
    "# Объединяем обе выборки перед SMOTE\n",
    "train_balancing = pd.concat([churn_0_sampled, churn_1], axis=0)"
   ]
  },
  {
   "cell_type": "code",
   "execution_count": 79,
   "id": "d4b20fe2-b48e-49c9-a0a8-89ed137960a6",
   "metadata": {},
   "outputs": [],
   "source": [
    "# **Oversampling:** добавляем 831974 записей класса 1 с помощью SMOTE\n",
    "X_resampled, y_resampled = SMOTE(sampling_strategy=1.0, random_state=42).fit_resample(\n",
    "    train_balancing.drop(columns=['churn']), train_balancing['churn'])"
   ]
  },
  {
   "cell_type": "code",
   "execution_count": 80,
   "id": "249cb4ab-ffbe-40f9-aa33-eb39f6143b63",
   "metadata": {},
   "outputs": [],
   "source": [
    "# Превращаем в датафрейм\n",
    "balanced_train = pd.DataFrame(X_resampled, columns=train_balancing.drop(columns=['churn']).columns)\n",
    "balanced_train['churn'] = y_resampled"
   ]
  },
  {
   "cell_type": "code",
   "execution_count": 84,
   "id": "0b4ba831-4763-4b7d-80b0-497760898cb6",
   "metadata": {},
   "outputs": [
    {
     "name": "stdout",
     "output_type": "stream",
     "text": [
      "churn\n",
      "0    2018104\n",
      "1    2018104\n",
      "Name: count, dtype: int64\n"
     ]
    }
   ],
   "source": [
    "# Проверяем баланс\n",
    "print(balanced_train['churn'].value_counts())"
   ]
  },
  {
   "cell_type": "code",
   "execution_count": 85,
   "id": "70749438-c8cb-4a72-9462-8c17a6b0f108",
   "metadata": {},
   "outputs": [],
   "source": [
    "# сохраню отбалансированные данные на будущее себе, чтобы была возможность продолжить с этого шага\n",
    "balanced_train.to_csv(\"balanced_train.csv\", index=False)"
   ]
  },
  {
   "cell_type": "markdown",
   "id": "b61f3711-9790-43eb-9732-6a89bd7eb2b7",
   "metadata": {},
   "source": [
    "### Нормализация данных"
   ]
  },
  {
   "cell_type": "code",
   "execution_count": 94,
   "id": "4000218d-a90b-41fb-97e6-4015072eaaa0",
   "metadata": {},
   "outputs": [],
   "source": [
    "train = balanced_train"
   ]
  },
  {
   "cell_type": "code",
   "execution_count": 95,
   "id": "2c717ae7-1651-4aac-b346-b1ad8253728c",
   "metadata": {},
   "outputs": [],
   "source": [
    "scaler = StandardScaler()"
   ]
  },
  {
   "cell_type": "code",
   "execution_count": 89,
   "id": "3ae27c2e-d183-401f-8e86-8c10ab16a8d8",
   "metadata": {},
   "outputs": [],
   "source": [
    "train_std = scaler.fit_transform(train)\n",
    "test_std = scaler.fit_transform(test)"
   ]
  },
  {
   "cell_type": "markdown",
   "id": "29193ccb-bfa9-410b-99c1-e5eed4e893d6",
   "metadata": {},
   "source": [
    "### Уменьшение размерности"
   ]
  },
  {
   "cell_type": "code",
   "execution_count": 91,
   "id": "2498d1a4-abf9-4d41-aec8-3d151b9b8343",
   "metadata": {},
   "outputs": [
    {
     "ename": "IndexError",
     "evalue": "only integers, slices (`:`), ellipsis (`...`), numpy.newaxis (`None`) and integer or boolean arrays are valid indices",
     "output_type": "error",
     "traceback": [
      "\u001b[0;31m---------------------------------------------------------------------------\u001b[0m",
      "\u001b[0;31mIndexError\u001b[0m                                Traceback (most recent call last)",
      "Cell \u001b[0;32mIn[91], line 5\u001b[0m\n\u001b[1;32m      3\u001b[0m x0, x1 \u001b[38;5;241m=\u001b[39m pca\u001b[38;5;241m.\u001b[39mcomponents_\n\u001b[1;32m      4\u001b[0m sns\u001b[38;5;241m.\u001b[39mset(font_scale\u001b[38;5;241m=\u001b[39m\u001b[38;5;241m1.5\u001b[39m)\n\u001b[0;32m----> 5\u001b[0m y \u001b[38;5;241m=\u001b[39m \u001b[43mtrain\u001b[49m\u001b[43m[\u001b[49m\u001b[38;5;124;43m\"\u001b[39;49m\u001b[38;5;124;43mChurn\u001b[39;49m\u001b[38;5;124;43m\"\u001b[39;49m\u001b[43m]\u001b[49m\u001b[38;5;241m.\u001b[39mmap({\u001b[38;5;241m0\u001b[39m: \u001b[38;5;28;01mFalse\u001b[39;00m, \u001b[38;5;241m1\u001b[39m: \u001b[38;5;28;01mTrue\u001b[39;00m})\n\u001b[1;32m      6\u001b[0m fig \u001b[38;5;241m=\u001b[39m sns\u001b[38;5;241m.\u001b[39mpairplot(data\u001b[38;5;241m=\u001b[39mpd\u001b[38;5;241m.\u001b[39mconcat([pd\u001b[38;5;241m.\u001b[39mDataFrame(data\u001b[38;5;241m=\u001b[39mtrain \u001b[38;5;241m@\u001b[39m np\u001b[38;5;241m.\u001b[39mstack([x0, x1])\u001b[38;5;241m.\u001b[39mT, columns\u001b[38;5;241m=\u001b[39m[\u001b[38;5;124m\"\u001b[39m\u001b[38;5;124mPC1\u001b[39m\u001b[38;5;124m\"\u001b[39m, \u001b[38;5;124m\"\u001b[39m\u001b[38;5;124mPC2\u001b[39m\u001b[38;5;124m\"\u001b[39m]), y], axis\u001b[38;5;241m=\u001b[39m\u001b[38;5;241m1\u001b[39m),\n\u001b[1;32m      7\u001b[0m                    x_vars\u001b[38;5;241m=\u001b[39m\u001b[38;5;124m\"\u001b[39m\u001b[38;5;124mPC1\u001b[39m\u001b[38;5;124m\"\u001b[39m,\n\u001b[1;32m      8\u001b[0m                    y_vars\u001b[38;5;241m=\u001b[39m\u001b[38;5;124m\"\u001b[39m\u001b[38;5;124mPC2\u001b[39m\u001b[38;5;124m\"\u001b[39m,\n\u001b[0;32m   (...)\u001b[0m\n\u001b[1;32m     12\u001b[0m                    plot_kws\u001b[38;5;241m=\u001b[39m{\u001b[38;5;124m'\u001b[39m\u001b[38;5;124ms\u001b[39m\u001b[38;5;124m'\u001b[39m: \u001b[38;5;241m100\u001b[39m, \u001b[38;5;124m'\u001b[39m\u001b[38;5;124malpha\u001b[39m\u001b[38;5;124m'\u001b[39m: \u001b[38;5;241m0.5\u001b[39m},\n\u001b[1;32m     13\u001b[0m                    height\u001b[38;5;241m=\u001b[39m\u001b[38;5;241m6\u001b[39m)\n\u001b[1;32m     14\u001b[0m fig\u001b[38;5;241m.\u001b[39mset(title\u001b[38;5;241m=\u001b[39m\u001b[38;5;124m\"\u001b[39m\u001b[38;5;124mCustomer churn visialization (PCA)\u001b[39m\u001b[38;5;124m\"\u001b[39m)\n",
      "\u001b[0;31mIndexError\u001b[0m: only integers, slices (`:`), ellipsis (`...`), numpy.newaxis (`None`) and integer or boolean arrays are valid indices"
     ]
    }
   ],
   "source": [
    "pca = PCA(n_components=2)\n",
    "pca.fit(train)\n",
    "x0, x1 = pca.components_\n",
    "sns.set(font_scale=1.5)\n",
    "y = train[\"Churn\"].map({0: False, 1: True})\n",
    "fig = sns.pairplot(data=pd.concat([pd.DataFrame(data=train @ np.stack([x0, x1]).T, columns=[\"PC1\", \"PC2\"]), y], axis=1),\n",
    "                   x_vars=\"PC1\",\n",
    "                   y_vars=\"PC2\",\n",
    "                   hue=\"Churn\",\n",
    "                   markers=('^', 's'),\n",
    "                   palette=[\"blue\", \"red\"],\n",
    "                   plot_kws={'s': 100, 'alpha': 0.5},\n",
    "                   height=6)\n",
    "fig.set(title=\"Customer churn visialization (PCA)\")\n",
    "fig.axes[0][0].axhline(y=0, color='black', lw=3, alpha=0.1)\n",
    "fig.axes[0][0].axvline(x=0, color='black', lw=3, alpha=0.1);"
   ]
  },
  {
   "cell_type": "code",
   "execution_count": 92,
   "id": "be624bfb-fe29-4fcd-acec-2a05e0e6f94e",
   "metadata": {},
   "outputs": [
    {
     "ename": "IndexError",
     "evalue": "only integers, slices (`:`), ellipsis (`...`), numpy.newaxis (`None`) and integer or boolean arrays are valid indices",
     "output_type": "error",
     "traceback": [
      "\u001b[0;31m---------------------------------------------------------------------------\u001b[0m",
      "\u001b[0;31mIndexError\u001b[0m                                Traceback (most recent call last)",
      "Cell \u001b[0;32mIn[92], line 1\u001b[0m\n\u001b[0;32m----> 1\u001b[0m \u001b[43mtrain\u001b[49m\u001b[43m[\u001b[49m\u001b[38;5;124;43m'\u001b[39;49m\u001b[38;5;124;43mChurn\u001b[39;49m\u001b[38;5;124;43m'\u001b[39;49m\u001b[43m]\u001b[49m\n",
      "\u001b[0;31mIndexError\u001b[0m: only integers, slices (`:`), ellipsis (`...`), numpy.newaxis (`None`) and integer or boolean arrays are valid indices"
     ]
    }
   ],
   "source": [
    "train['Churn']"
   ]
  },
  {
   "cell_type": "code",
   "execution_count": 93,
   "id": "7227a713-8ce1-4db9-a649-f8f07c1e0b92",
   "metadata": {},
   "outputs": [
    {
     "data": {
      "text/plain": [
       "numpy.ndarray"
      ]
     },
     "execution_count": 93,
     "metadata": {},
     "output_type": "execute_result"
    }
   ],
   "source": [
    "type(train)"
   ]
  },
  {
   "cell_type": "markdown",
   "id": "eebdf0e7-48e8-4d70-a185-2324a1b257e6",
   "metadata": {},
   "source": [
    "На сегодня пока все, позже поковыряю данный ноутбук =)"
   ]
  }
 ],
 "metadata": {
  "kernelspec": {
   "display_name": "Python 3 (ipykernel)",
   "language": "python",
   "name": "python3"
  },
  "language_info": {
   "codemirror_mode": {
    "name": "ipython",
    "version": 3
   },
   "file_extension": ".py",
   "mimetype": "text/x-python",
   "name": "python",
   "nbconvert_exporter": "python",
   "pygments_lexer": "ipython3",
   "version": "3.10.16"
  }
 },
 "nbformat": 4,
 "nbformat_minor": 5
}
