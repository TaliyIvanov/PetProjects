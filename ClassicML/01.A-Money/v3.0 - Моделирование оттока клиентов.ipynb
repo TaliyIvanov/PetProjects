{
 "cells": [
  {
   "cell_type": "markdown",
   "id": "a316eb93-908a-4a51-a7ef-519ae5048b0d",
   "metadata": {},
   "source": [
    "### Before"
   ]
  },
  {
   "cell_type": "markdown",
   "id": "bab5fc6c-d073-4288-ab91-7a3943814894",
   "metadata": {},
   "source": [
    "#### Об этом ноутбуке\n",
    "Данный ноутбук является финальной частью.\n",
    "Он аккумулирует в себе предыдущие два + исследует решения коллег по цеху, для улучшения навыков в будущем.\n",
    "\n",
    "#### Цели данного ноутбука:\n",
    "- Провести \"работу над ошибками\" после участия [соревновании](https://www.kaggle.com/competitions/adengi-internship);\n",
    "- Подробно разобрать различные методы, которые используют коллеги для анализа ио бработки данных (методы заимствованы из этих ноутбуков: [Ноутбук1](https://www.kaggle.com/code/korcy78/baseline), [Ноутбук2](https://www.kaggle.com/code/alexaali/catboost-0-91-score))\n",
    "\n",
    "#### Description\n",
    "В этом соревновании вам нужно будет натренировать модель оттока, которая лучше всех сможет генерализовать общую зависимость оттока.\n",
    "\n",
    "#### Evaluation\n",
    "Ответы модели будут оценены с помощью F1 метрики между предсказанными ответами и реальными.\n",
    "\n",
    "#### Первые мысли\n",
    "По сути стандартная задача бинарной классификаци.\n",
    "\n",
    "Необходимо предсказать отток клиентов.\n",
    "\n",
    "В зависимости от кол-ва данных, будем выбирать модель.\n",
    "\n",
    "Предварительно, как многим известно, в подобных задачах себя очень хорошо зарекомендовали бустинги.\n",
    "Я взглянул на файлик train.csv, он весит 2.2Гб, данных много, я думаю лучшим решением будут именно бустинги.\n",
    "\n",
    "Но, т.к. я практикуюсь, мне не важно какой скор я выбью, лично мне важно попробовать разные подходы и поэкспериментировать.\n",
    "\n",
    "Разумеется в рамках разумных сроков(решаю эту задачу только по выходным).\n",
    "\n",
    "#### О данных\n",
    "- monthly_income - среднемесячный заработок клиента (зарплата)\n",
    "- payment_frequency - частота получения зарплаты (month - 1 раз в месяц, 2 weeks - раз в две недели, и тд)\n",
    "- status - статус клиента (самозанятый, рабочий, и тд)\n",
    "- work_experience - кол-во лет стажа клиента\n",
    "- client_type - тип клиента (новый, повторный)\n",
    "- settlement - город клиента\n",
    "- requested_sum - запрашиваемая сумма клиента для займа, если interface - alfa\n",
    "- region - регион клиента (область, округ, и тд)\n",
    "- loan_id - уникальный идентификатор займа\n",
    "- client_id - уникальный идентификатор клиента\n",
    "- main_agreement_amount - основная одобренная сумма клиенту по займу (может быть больше, чем approved_amount)\n",
    "- main_agreement_term - основной одобренный срок по займу\n",
    "- requested_period_days - запрашиваемый срок по займу\n",
    "- requested_amount - запрашиваемая сумма клиента по займу\n",
    "- req_app_amount - разница между запрашиваемой суммой займа и одобренной\n",
    "- approved_amount - одобренная сумма по займу\n",
    "- source - канал привлечения клиента\n",
    "- first_source - первый канал привлечения клиента\n",
    "- period_days - период страховки по займу\n",
    "- interface - интерфейс, откуда пришла заявка - (site, mobile)\n",
    "- created_at - дата открытия займа\n",
    "- type - тип займа (тип продукта)\n",
    "- closed_at - дата закрытия займа\n",
    "- days_finish_loan - время в днях, затраченное на закрытие займа (closed_at - created_at)\n",
    "- gender - пол клиента\n",
    "- ag - возраст клиента\n",
    "- repayment_type - Тип комиссии по займу (с 2.5% - with_comission, 5% - with_big_comission, 0% - no_comission)\n",
    "- loan_order - порядковый номер займа\n",
    "- have_extension - имеется ли пролонгация по данному займу\n",
    "- cnt_ext - кол-во пролонгаций по займу\n",
    "- start_dt - дата начала (список) пролонгаций по займу\n",
    "- term - срок пролонгации (список)\n",
    "- price - цена пролонгации (список)\n",
    "- elecs_sum - штрафы, пени\n",
    "- recurents_sum - штрафы, пени (там вроде как различия в этапах их начисления)\n",
    "- tamount - общий кэшфлоу клиента (общая сумма которая была на аккаунте клиента)\n",
    "- issues - сумма просрочек, штрафов и пени\n",
    "- principal - сумма основного долга\n",
    "- interest - прибыль с клиента\n",
    "- overdue_interest - прибыль с клиента, если есть прослойка\n",
    "- overdue_fee - штрафы в просрочек\n",
    "- contact_cases - кол-во обращений клиента с коллекшн\n",
    "- nbki_score - скор клиента от рисков\n",
    "\n",
    "- churn - колонка таргета"
   ]
  },
  {
   "cell_type": "markdown",
   "id": "a68e0019-a732-402c-96f1-18537dce69fe",
   "metadata": {},
   "source": [
    "### Imports"
   ]
  },
  {
   "cell_type": "code",
   "execution_count": 88,
   "id": "c5fe1602-a50d-4aa6-a748-7fe1d2838700",
   "metadata": {},
   "outputs": [],
   "source": [
    "import pandas as pd\n",
    "import numpy as np\n",
    "import seaborn as sns\n",
    "import matplotlib.pyplot as plt\n",
    "\n",
    "from sklearn.preprocessing import LabelEncoder\n",
    "from category_encoders.cat_boost import CatBoostEncoder\n",
    "\n",
    "\n",
    "import catboost as cb\n",
    "from catboost import CatBoostClassifier\n",
    "\n",
    "from sklearn.model_selection import train_test_split, GridSearchCV\n",
    "from sklearn.metrics import f1_score\n",
    "from sklearn.utils.class_weight import compute_sample_weight\n",
    "\n",
    "\n",
    "from sklearn.metrics import accuracy_score, classification_report, f1_score\n",
    "\n",
    "import time\n",
    "import warnings\n",
    "from tqdm import tqdm\n",
    "from datetime import datetime\n",
    "\n",
    "from imblearn.over_sampling import SMOTE\n",
    "warnings.filterwarnings(\"ignore\")\n",
    "\n",
    "\n",
    "\n",
    "# Utilities\n",
    "from rapidfuzz import process, fuzz\n",
    "from sklearn.base import BaseEstimator, TransformerMixin\n",
    "import re\n",
    "from sklearn.preprocessing import OneHotEncoder, OrdinalEncoder"
   ]
  },
  {
   "cell_type": "markdown",
   "id": "58eaa456-a736-4ee0-9655-009253ee0b8a",
   "metadata": {},
   "source": [
    "### Загрузка данных"
   ]
  },
  {
   "cell_type": "code",
   "execution_count": 89,
   "id": "977dd80c-2220-44e3-999b-b0023c7c5f11",
   "metadata": {},
   "outputs": [
    {
     "name": "stdout",
     "output_type": "stream",
     "text": [
      "Time is: 19.543049097061157 seconds\n"
     ]
    }
   ],
   "source": [
    "start = time.time()\n",
    "train = pd.read_csv('./data/train.csv')\n",
    "elapsed = time.time() - start\n",
    "print(f'Time is: {elapsed} seconds')"
   ]
  },
  {
   "cell_type": "code",
   "execution_count": 90,
   "id": "b2d1063d-df45-4437-9181-5862aefccaf9",
   "metadata": {},
   "outputs": [
    {
     "name": "stdout",
     "output_type": "stream",
     "text": [
      "Time is: 5.8990089893341064 seconds\n"
     ]
    }
   ],
   "source": [
    "start = time.time()\n",
    "test = pd.read_csv('./data/test.csv')\n",
    "elapsed = time.time() - start\n",
    "print(f'Time is: {elapsed} seconds')"
   ]
  },
  {
   "cell_type": "markdown",
   "id": "decb0857-208e-46d3-a317-3e1609a520bc",
   "metadata": {},
   "source": [
    "#### Оптимизация данных"
   ]
  },
  {
   "cell_type": "code",
   "execution_count": 91,
   "id": "19534ffb-c504-4add-b92b-1feca27d3ee4",
   "metadata": {},
   "outputs": [],
   "source": [
    "def optimize_data(df):\n",
    "    # оптимизируем числовые данные\n",
    "    for col in df.select_dtypes(include=['int64']).columns:\n",
    "        df[col] = pd.to_numeric(df[col], downcast='integer')\n",
    "    for col in df.select_dtypes(include=['float64']).columns:\n",
    "        df[col] = pd.to_numeric(df[col], downcast='float')\n",
    "\n",
    "    # Оптимизируем даты\n",
    "    df[\"created_at\"] = pd.to_datetime(df[\"created_at\"])\n",
    "    df[\"start_dt\"] = pd.to_datetime(df[\"start_dt\"])\n",
    "\n",
    "    return df"
   ]
  },
  {
   "cell_type": "code",
   "execution_count": 92,
   "id": "c95b51be-e18c-487d-9c94-18ff1066c263",
   "metadata": {},
   "outputs": [
    {
     "name": "stdout",
     "output_type": "stream",
     "text": [
      "Размер датасета до оптимизации: 3231.96 MB\n",
      "Размер датасета после оптимизации: 2150.51 MB\n"
     ]
    }
   ],
   "source": [
    "# Размер трейна до оптимизации\n",
    "print(f\"Размер датасета до оптимизации: {train.memory_usage(deep=True).sum() / (1024**2):.2f} MB\")\n",
    "train = optimize_data(train)\n",
    "# Размер трейна после оптимизации\n",
    "print(f\"Размер датасета после оптимизации: {train.memory_usage(deep=True).sum() / (1024**2):.2f} MB\")"
   ]
  },
  {
   "cell_type": "code",
   "execution_count": 93,
   "id": "56a2f996-0789-4ea4-a9e4-180330237235",
   "metadata": {},
   "outputs": [
    {
     "name": "stdout",
     "output_type": "stream",
     "text": [
      "Размер датасета до оптимизации: 971.89 MB\n",
      "Размер датасета после оптимизации: 619.54 MB\n"
     ]
    }
   ],
   "source": [
    "# Размер теста до оптимизации\n",
    "print(f\"Размер датасета до оптимизации: {test.memory_usage(deep=True).sum() / (1024**2):.2f} MB\")\n",
    "test = optimize_data(test)\n",
    "# Размер теста после оптимизации\n",
    "print(f\"Размер датасета после оптимизации: {test.memory_usage(deep=True).sum() / (1024**2):.2f} MB\")"
   ]
  },
  {
   "cell_type": "markdown",
   "id": "1ea0aa55-46aa-430a-b6b3-762343434fc5",
   "metadata": {
    "jp-MarkdownHeadingCollapsed": true
   },
   "source": [
    "### EDA"
   ]
  },
  {
   "cell_type": "markdown",
   "id": "2f88604c-a902-4bed-9cca-91b4fd0c71bc",
   "metadata": {},
   "source": [
    "### Общая оценка"
   ]
  },
  {
   "cell_type": "code",
   "execution_count": 96,
   "id": "e9acfd1f-73af-476b-8596-0d88f40d9cad",
   "metadata": {},
   "outputs": [
    {
     "data": {
      "text/plain": [
       "(4036207, 45)"
      ]
     },
     "execution_count": 96,
     "metadata": {},
     "output_type": "execute_result"
    }
   ],
   "source": [
    "train.shape"
   ]
  },
  {
   "cell_type": "code",
   "execution_count": 97,
   "id": "a19e2f2e-c821-4da9-97e0-744708dc25b4",
   "metadata": {},
   "outputs": [
    {
     "data": {
      "text/plain": [
       "(1348743, 43)"
      ]
     },
     "execution_count": 97,
     "metadata": {},
     "output_type": "execute_result"
    }
   ],
   "source": [
    "test.shape"
   ]
  },
  {
   "cell_type": "markdown",
   "id": "f55006a7-2df8-4dec-aaed-f88d049704a9",
   "metadata": {},
   "source": [
    "Количество фичей в трейне и тесте различно больше чем на единицу, следовательно из теста удалили некий признак, который остался в трейне.\n",
    "\n",
    "Оставлять его не имеет никакого смысла абсолютно)\n",
    "\n",
    "Ознакомимся с данными детальнее"
   ]
  },
  {
   "cell_type": "code",
   "execution_count": 98,
   "id": "30bcc356-6000-49e6-bb73-0c69dadfed18",
   "metadata": {},
   "outputs": [
    {
     "name": "stdout",
     "output_type": "stream",
     "text": [
      "<class 'pandas.core.frame.DataFrame'>\n",
      "RangeIndex: 4036207 entries, 0 to 4036206\n",
      "Data columns (total 45 columns):\n",
      " #   Column                 Dtype         \n",
      "---  ------                 -----         \n",
      " 0   monthly_income         float32       \n",
      " 1   work_experience        float32       \n",
      " 2   requested_sum          float32       \n",
      " 3   main_agreement_amount  float32       \n",
      " 4   main_agreement_term    float32       \n",
      " 5   requested_period_days  float32       \n",
      " 6   requested_amount       float32       \n",
      " 7   req_app_amount         float32       \n",
      " 8   approved_amount        float32       \n",
      " 9   period_days            float32       \n",
      " 10  days_finish_loan       float32       \n",
      " 11  ag                     float32       \n",
      " 12  cnt_ext                float32       \n",
      " 13  term                   float32       \n",
      " 14  price                  float32       \n",
      " 15  elecs_sum              float32       \n",
      " 16  recurents_sum          float32       \n",
      " 17  tamount                float32       \n",
      " 18  issues                 float32       \n",
      " 19  principal              float32       \n",
      " 20  interest               float32       \n",
      " 21  overdue_interest       float32       \n",
      " 22  overdue_fee            float32       \n",
      " 23  nbki_score             float32       \n",
      " 24  payment_frequency      int8          \n",
      " 25  status                 int8          \n",
      " 26  loan_id                int32         \n",
      " 27  client_id              int32         \n",
      " 28  source                 int8          \n",
      " 29  first_source           int8          \n",
      " 30  interface              int8          \n",
      " 31  type                   int8          \n",
      " 32  repayment_type         int8          \n",
      " 33  client_type            int8          \n",
      " 34  settlement             object        \n",
      " 35  client_type.1          object        \n",
      " 36  region                 object        \n",
      " 37  gender                 object        \n",
      " 38  loan_order             int16         \n",
      " 39  have_extension         int8          \n",
      " 40  contact_cases          float32       \n",
      " 41  created_at             datetime64[ns]\n",
      " 42  closed_at              object        \n",
      " 43  start_dt               datetime64[ns]\n",
      " 44  churn                  int8          \n",
      "dtypes: datetime64[ns](2), float32(25), int16(1), int32(2), int8(10), object(5)\n",
      "memory usage: 677.5+ MB\n"
     ]
    }
   ],
   "source": [
    "train.info()"
   ]
  },
  {
   "cell_type": "code",
   "execution_count": 36,
   "id": "f6484d92-20b3-479b-9466-ab1f93e121d8",
   "metadata": {},
   "outputs": [
    {
     "name": "stdout",
     "output_type": "stream",
     "text": [
      "<class 'pandas.core.frame.DataFrame'>\n",
      "RangeIndex: 1348743 entries, 0 to 1348742\n",
      "Data columns (total 43 columns):\n",
      " #   Column                 Non-Null Count    Dtype         \n",
      "---  ------                 --------------    -----         \n",
      " 0   monthly_income         1348680 non-null  float32       \n",
      " 1   work_experience        463225 non-null   float32       \n",
      " 2   requested_sum          163790 non-null   float32       \n",
      " 3   main_agreement_amount  1348743 non-null  float32       \n",
      " 4   main_agreement_term    1348743 non-null  float32       \n",
      " 5   requested_period_days  1200882 non-null  float32       \n",
      " 6   requested_amount       1209772 non-null  float32       \n",
      " 7   req_app_amount         1209772 non-null  float32       \n",
      " 8   approved_amount        1348743 non-null  float32       \n",
      " 9   period_days            1348743 non-null  float32       \n",
      " 10  days_finish_loan       1348743 non-null  float32       \n",
      " 11  ag                     1348743 non-null  float32       \n",
      " 12  cnt_ext                151701 non-null   float32       \n",
      " 13  term                   151701 non-null   float32       \n",
      " 14  price                  151610 non-null   float32       \n",
      " 15  elecs_sum              1346759 non-null  float32       \n",
      " 16  recurents_sum          1346759 non-null  float32       \n",
      " 17  tamount                1348125 non-null  float32       \n",
      " 18  issues                 1348743 non-null  float32       \n",
      " 19  principal              1348743 non-null  float32       \n",
      " 20  interest               1348743 non-null  float32       \n",
      " 21  overdue_interest       1348743 non-null  float32       \n",
      " 22  overdue_fee            1348743 non-null  float32       \n",
      " 23  nbki_score             1320766 non-null  float32       \n",
      " 24  payment_frequency      1348743 non-null  int8          \n",
      " 25  status                 1348743 non-null  int8          \n",
      " 26  loan_id                1348743 non-null  int32         \n",
      " 27  client_id              1348743 non-null  int32         \n",
      " 28  source                 1348743 non-null  int8          \n",
      " 29  first_source           1348743 non-null  int8          \n",
      " 30  interface              1348743 non-null  int8          \n",
      " 31  type                   1348743 non-null  int8          \n",
      " 32  repayment_type         1348743 non-null  int8          \n",
      " 33  client_type            1348743 non-null  int8          \n",
      " 34  settlement             1348743 non-null  object        \n",
      " 35  client_type.1          1348743 non-null  object        \n",
      " 36  region                 1348743 non-null  object        \n",
      " 37  gender                 1348743 non-null  object        \n",
      " 38  loan_order             1348743 non-null  int16         \n",
      " 39  have_extension         1348743 non-null  int8          \n",
      " 40  contact_cases          75952 non-null    float32       \n",
      " 41  created_at             1348743 non-null  datetime64[ns]\n",
      " 42  start_dt               151075 non-null   datetime64[ns]\n",
      "dtypes: datetime64[ns](2), float32(25), int16(1), int32(2), int8(9), object(4)\n",
      "memory usage: 214.8+ MB\n"
     ]
    }
   ],
   "source": [
    "test.info()"
   ]
  },
  {
   "cell_type": "code",
   "execution_count": 94,
   "id": "dfc98f1a-65e3-4b42-9f2a-37dd8b164ae2",
   "metadata": {},
   "outputs": [],
   "source": [
    "# лишним является 'closed_at', без зазрений совести дропаем его из трейна\n",
    "train.drop('closed_at', axis=1, inplace=True)"
   ]
  },
  {
   "cell_type": "code",
   "execution_count": 95,
   "id": "b05a720e-7c2d-4d46-ba8c-9034eb1f1a1b",
   "metadata": {},
   "outputs": [],
   "source": [
    "# избавимся от 'client_type.1' ,т.к. это категориальная копия 'client_type'\n",
    "train.drop('client_type.1', axis=1, inplace=True)\n",
    "test.drop('client_type.1', axis=1, inplace=True)"
   ]
  },
  {
   "cell_type": "markdown",
   "id": "f45b6c42-321d-4fae-884e-35cfe5b4791c",
   "metadata": {},
   "source": [
    "#### DataClean"
   ]
  },
  {
   "cell_type": "code",
   "execution_count": 97,
   "id": "f0b6b73a-6660-46f8-a554-46256b527e70",
   "metadata": {},
   "outputs": [],
   "source": [
    "class DataCleanerTransformer(BaseEstimator, TransformerMixin):\n",
    "    def __init__(self, region_column=None, region_reference=None):\n",
    "        self.missing_cols = []\n",
    "        self.region_column = region_column\n",
    "        self.region_reference = region_reference\n",
    "        self.reference_list = []\n",
    "        self.label_encoders = {}\n",
    "\n",
    "    def fit(self, X, y=None):\n",
    "        # Сохраняем список колонок с пропущенными значениями для добавления индикаторов\n",
    "        self.missing_cols = X.columns[X.isnull().any()].tolist()\n",
    "\n",
    "        if self.region_column and self.region_reference:\n",
    "            reference = pd.read_csv(self.region_reference)\n",
    "            reference[\"region_name\"] = reference[\"name\"].str.lower().str.strip()\n",
    "            self.reference_list = reference[\"region_name\"].tolist()\n",
    "\n",
    "        return self\n",
    "\n",
    "    def transform(self, X):\n",
    "        data = X.copy()\n",
    "        \n",
    "        # Добавляем индикаторы пропущенных значений перед заполнением пропусков\n",
    "        data = self.add_missing_indicators(data)\n",
    "\n",
    "        # Применяем функции для заполнения пропущенных значений\n",
    "        data = self.fill_monthly_income(data)\n",
    "        data = self.fill_work_experience(data)\n",
    "        data = self.fill_requested_sum(data)\n",
    "        data = self.fill_requested_amount_and_req_app_amount(data)\n",
    "        data = self.fill_requested_period_days(data)\n",
    "        data = self.fill_term_and_price(data)\n",
    "        data = self.fill_elecs_sum_and_recurents_sum(data)\n",
    "        data = self.fill_tamount(data)\n",
    "        data = self.fill_nbki_score(data)\n",
    "        data = self.fill_cnt_ext(data)\n",
    "        data = self.fill_start_dt(data)\n",
    "        data = self.fill_contact_cases(data)\n",
    "\n",
    "        if self.region_column:\n",
    "            data[self.region_column] = data[self.region_column].str.lower().str.strip()\n",
    "            data[self.region_column] = data[self.region_column].apply(self.find_closest_match)\n",
    "\n",
    "        data = self.process_settlement(data)\n",
    "\n",
    "        # Генерация новых признаков\n",
    "        data = self.generate_features(data)\n",
    "\n",
    "        # Обработка дат\n",
    "        data = self.process_dates(data)\n",
    "\n",
    "        # Преобразование категориальных переменных\n",
    "        data = self.encode_categorical_features(data)\n",
    "\n",
    "        # Удаление ненужных признаков\n",
    "        data = self.delete_bad_features(data)\n",
    "\n",
    "        return data\n",
    "\n",
    "    def fill_monthly_income(self, data):\n",
    "        data['monthly_income'] = data.groupby('status')['monthly_income'].transform(\n",
    "            lambda x: x.fillna(x.median()) if not np.isnan(x.median()) else x.fillna(data['monthly_income'].median())\n",
    "        )\n",
    "        return data\n",
    "\n",
    "    def fill_work_experience(self, data):\n",
    "        data['work_experience'] = data.groupby('status')['work_experience'].transform(\n",
    "            lambda x: x.fillna(x.median()) if not np.isnan(x.median()) else x.fillna(data['work_experience'].median())\n",
    "        )\n",
    "        return data\n",
    "\n",
    "    def fill_requested_sum(self, data):\n",
    "        data['requested_sum'] = data['requested_sum'].fillna(\n",
    "            data['approved_amount'] * (data['requested_sum'].median() / data['approved_amount'].median())\n",
    "        )\n",
    "        return data\n",
    "\n",
    "    def fill_requested_amount_and_req_app_amount(self, data):\n",
    "        data['requested_amount'] = data['requested_amount'].fillna(data['requested_sum'])\n",
    "        data['req_app_amount'] = data['requested_amount'] - data['approved_amount']\n",
    "        return data\n",
    "\n",
    "    def fill_requested_period_days(self, data):\n",
    "        data['requested_period_days'] = data.groupby('type')['requested_period_days'].transform(\n",
    "            lambda x: x.fillna(x.median())\n",
    "        )\n",
    "        return data\n",
    "\n",
    "    def fill_term_and_price(self, data):\n",
    "        data['term'] = data['term'].fillna(0)\n",
    "        data['price'] = data['price'].fillna(0)\n",
    "        return data\n",
    "\n",
    "    def fill_elecs_sum_and_recurents_sum(self, data):\n",
    "        data['elecs_sum'] = data.groupby('repayment_type')['elecs_sum'].transform(\n",
    "            lambda x: x.fillna(x.median())\n",
    "        )\n",
    "        data['recurents_sum'] = data.groupby('repayment_type')['recurents_sum'].transform(\n",
    "            lambda x: x.fillna(x.median())\n",
    "        )\n",
    "        return data\n",
    "\n",
    "    def fill_tamount(self, data):\n",
    "        data['tamount'] = data['tamount'].fillna(data['principal'] + data['interest'] + data['issues'])\n",
    "        return data\n",
    "\n",
    "    def fill_nbki_score(self, data):\n",
    "        data['nbki_score'] = data.groupby('status')['nbki_score'].transform(\n",
    "            lambda x: x.fillna(x.median())\n",
    "        )\n",
    "        return data\n",
    "\n",
    "    def fill_cnt_ext(self, data):\n",
    "        data['cnt_ext'] = data['cnt_ext'].fillna(0)\n",
    "        return data\n",
    "\n",
    "    def add_missing_indicators(self, data):\n",
    "        for col in self.missing_cols:\n",
    "            data[f'{col}_missing'] = data[col].isnull().astype(int)\n",
    "        return data\n",
    "\n",
    "    def fill_contact_cases(self, data):\n",
    "        data['contact_cases'] = data.groupby('repayment_type')['contact_cases'].transform(\n",
    "            lambda x: x.fillna(x.median())\n",
    "        )\n",
    "        data['contact_cases'] = data['contact_cases'].fillna(data['contact_cases'].median())\n",
    "        return data\n",
    "\n",
    "    def fill_start_dt(self, data):\n",
    "        data['start_dt'] = pd.to_datetime(data['start_dt'], errors='coerce')\n",
    "        data['start_dt'] = data.groupby('client_id')['start_dt'].transform(\n",
    "            lambda x: x.fillna(x.min())\n",
    "        )\n",
    "        data['start_dt'] = data['start_dt'].fillna(data['created_at'])\n",
    "        return data\n",
    "\n",
    "    def find_closest_match(self, region):\n",
    "        match = process.extractOne(region, self.reference_list, scorer=fuzz.ratio)\n",
    "        return match[0] if match and match[1] >= 60 else region  # Минимальный порог схожести - 60%\n",
    "\n",
    "    def generate_features(self, data):\n",
    "        # Платежное поведение\n",
    "        data['payment_to_income_ratio'] = data['tamount'] / data['monthly_income']\n",
    "        data['interest_to_principal_ratio'] = data['interest'] / data['principal']\n",
    "        data['overdue_ratio'] = (data['overdue_interest'] + data['overdue_fee']) / data['principal']\n",
    "\n",
    "        # Временные характеристики\n",
    "        data['early_repayment'] = data['period_days'] - data['days_finish_loan']\n",
    "\n",
    "        # Кредитное поведение\n",
    "        data['approval_ratio'] = data['approved_amount'] / data['requested_amount']\n",
    "        data['previous_extensions'] = data['cnt_ext'].fillna(0)\n",
    "        data['had_extensions'] = data['cnt_ext'].notna().astype(int)\n",
    "\n",
    "        # Признаки рискованности клиента\n",
    "        data['risk_score'] = (\n",
    "            (data['nbki_score'] * -1) +  # Инвертируем скор, чтобы высокие значения означали высокий риск\n",
    "            (data['overdue_ratio'] * 2) +\n",
    "            (data['had_extensions'] * 1.5)\n",
    "        )\n",
    "\n",
    "        # Поведенческие признаки\n",
    "        data['digital_engagement'] = ((data['interface'] == 2) |\n",
    "                                        (data['source'].isin([11, 12]))).astype(int)\n",
    "        data['prefers_longer_terms'] = (data['requested_period_days'] > \n",
    "                                          data['requested_period_days'].mean()).astype(int)\n",
    "\n",
    "        # Группируем по client_id и создаем новые признаки\n",
    "        client_features = data.groupby('client_id').agg({\n",
    "            'loan_id': 'count',  # Общее количество займов\n",
    "            'days_finish_loan': 'mean',  # Средний срок закрытия займа\n",
    "            'approved_amount': 'mean',  # Средняя сумма займа\n",
    "            'cnt_ext': 'sum',  # Общее количество продлений\n",
    "            'elecs_sum': 'sum',  # Сумма штрафов\n",
    "            'created_at': 'max',  # Дата последнего займа\n",
    "            'monthly_income': 'std',  # Вариация дохода\n",
    "            'contact_cases': 'sum'  # Количество обращений в поддержку\n",
    "        }).reset_index()\n",
    "\n",
    "        client_features.rename(columns={\n",
    "            'loan_id': 'total_loans',\n",
    "            'days_finish_loan': 'avg_days_finish_loan',\n",
    "            'approved_amount': 'avg_approved_amount',\n",
    "            'cnt_ext': 'total_extensions',\n",
    "            'elecs_sum': 'total_fees',\n",
    "            'created_at': 'last_loan_date',\n",
    "            'monthly_income': 'income_variation',\n",
    "            'contact_cases': 'total_contacts'\n",
    "        }, inplace=True)\n",
    "        data = data.merge(client_features, on='client_id', how='left')\n",
    "        \n",
    "        # Финансовая нагрузка\n",
    "        data['total_debt_burden'] = (data['elecs_sum'] + data['recurents_sum']) / data['monthly_income']\n",
    "        data['disposable_income_ratio'] = 1 - data['total_debt_burden']\n",
    "\n",
    "        return data\n",
    "\n",
    "    def process_dates(self, data):\n",
    "        date_columns = ['created_at', 'start_dt']\n",
    "        for col in date_columns:\n",
    "            if col in data.columns:\n",
    "                data[col] = pd.to_datetime(data[col], errors='coerce')  # Преобразуем в datetime\n",
    "                data[col] = data[col].fillna(data['start_dt'])  # Заполняем отсутствующие значения датой из 'start_dt'\n",
    "                # Преобразуем datetime в формат timestamp (количество секунд с начала эпохи)\n",
    "                data[col] = data[col].astype('int64') // 10**9\n",
    "        return data\n",
    "\n",
    "    def encode_categorical_features(self, data):\n",
    "        categorical_features = ['status', 'payment_frequency', 'source', 'first_source', \n",
    "                                'interface', 'type', 'repayment_type', 'settlement', 'region', 'gender']\n",
    "\n",
    "        for feature in categorical_features:\n",
    "            data[feature] = data[feature].astype(str).fillna(\"missing\")  # Используем строку, чтобы избежать ошибки\n",
    "            le = LabelEncoder()\n",
    "            data[feature] = le.fit_transform(data[feature])\n",
    "            self.label_encoders[feature] = le\n",
    "\n",
    "        return data\n",
    "\n",
    "    def clean_city_name(self, name):\n",
    "        # Извлечение последнего слова\n",
    "        name = name.split()[-1].lower().strip()\n",
    "        # Удаление нежелательных символов (всего, что не буквы и не цифры)\n",
    "        name = re.sub(r'[^а-яa-z0-9]', '', name)\n",
    "        \n",
    "        return name\n",
    "\n",
    "    def process_settlement(self, data):\n",
    "        data['settlement'] = data['settlement'].apply(self.clean_city_name)\n",
    "        threshold = 400\n",
    "        data_region_counts = data['settlement'].value_counts()\n",
    "        data['settlement'] = data['settlement'].apply(lambda x: x if data_region_counts[x] > threshold else 'другие')\n",
    "\n",
    "        return data\n",
    "\n",
    "    def delete_bad_features(self, data):\n",
    "        columns = ['loan_id', 'client_id']\n",
    "        data.drop(columns=columns, inplace=True)\n",
    "        \n",
    "        return data"
   ]
  },
  {
   "cell_type": "code",
   "execution_count": 98,
   "id": "094a60fa-c63b-4f19-b227-c37014fa1614",
   "metadata": {},
   "outputs": [
    {
     "name": "stdout",
     "output_type": "stream",
     "text": [
      "\n",
      "Elapsed Time: 346.88 seconds\n"
     ]
    }
   ],
   "source": [
    "# Пример использования\n",
    "start_time = time.time()\n",
    "transformer = DataCleanerTransformer(\n",
    "    region_column=\"region\", region_reference=\"./data/region.csv\"\n",
    ")\n",
    "# Файл region_reference содержит правильно написанные названия регионов, исправление работает, так что, находятся \n",
    "# ближайше возможные записи из region_reference и по ним заменяются записи из train и test\n",
    "\n",
    "train = transformer.fit_transform(train)\n",
    "test = transformer.fit_transform(test)\n",
    "\n",
    "end_time = time.time()\n",
    "elapsed_time = round(end_time - start_time, 2)\n",
    "print(f\"\\nElapsed Time: {elapsed_time} seconds\")"
   ]
  },
  {
   "cell_type": "markdown",
   "id": "e2545433-3e4b-4672-9f2b-a3daa8fb363c",
   "metadata": {},
   "source": [
    "### TrainModel"
   ]
  },
  {
   "cell_type": "code",
   "execution_count": 101,
   "id": "b07b2a31-b4bb-4ccf-96af-1184dfc862d6",
   "metadata": {},
   "outputs": [],
   "source": [
    "X = train.drop(columns=[\"churn\"])\n",
    "y = train[\"churn\"]\n",
    "\n",
    "X_train, X_test, y_train, y_test = train_test_split(X, y, test_size=0.2, random_state=42, stratify=y)"
   ]
  },
  {
   "cell_type": "code",
   "execution_count": 102,
   "id": "56b236bf-e8ae-474a-b302-bbdbcf0dc937",
   "metadata": {},
   "outputs": [
    {
     "name": "stdout",
     "output_type": "stream",
     "text": [
      "Fitting 5 folds for each of 9 candidates, totalling 45 fits\n",
      "[CV] END ............................depth=4, iterations=100; total time= 1.1min\n",
      "[CV] END ............................depth=4, iterations=500; total time= 4.8min\n",
      "[CV] END ............................depth=4, iterations=100; total time= 1.1min\n",
      "[CV] END ............................depth=4, iterations=100; total time= 1.1min\n",
      "[CV] END ............................depth=4, iterations=500; total time= 4.6min\n",
      "[CV] END ............................depth=4, iterations=100; total time= 1.1min\n",
      "[CV] END ............................depth=4, iterations=500; total time= 4.7min\n",
      "[CV] END ............................depth=4, iterations=500; total time= 4.7min\n",
      "[CV] END ............................depth=4, iterations=100; total time= 1.1min\n",
      "[CV] END ............................depth=4, iterations=500; total time= 4.8min\n",
      "[CV] END ...........................depth=4, iterations=1000; total time= 9.2min\n",
      "[CV] END ...........................depth=4, iterations=1000; total time= 9.3min\n",
      "[CV] END ............................depth=6, iterations=100; total time= 1.3min\n",
      "[CV] END ............................depth=6, iterations=100; total time= 1.3min\n",
      "[CV] END ...........................depth=4, iterations=1000; total time= 9.2min\n",
      "[CV] END ............................depth=6, iterations=100; total time= 1.3min\n",
      "[CV] END ............................depth=6, iterations=100; total time= 1.3min\n",
      "[CV] END ...........................depth=4, iterations=1000; total time= 9.1min\n",
      "[CV] END ............................depth=6, iterations=500; total time= 5.9min\n",
      "[CV] END ............................depth=6, iterations=100; total time= 1.3min\n",
      "[CV] END ............................depth=6, iterations=500; total time= 5.9min\n",
      "[CV] END ...........................depth=6, iterations=1000; total time=11.9min\n",
      "[CV] END ...........................depth=4, iterations=1000; total time= 9.0min\n",
      "[CV] END ............................depth=6, iterations=500; total time= 6.0min\n",
      "[CV] END ...........................depth=6, iterations=1000; total time=11.8min\n",
      "[CV] END ............................depth=8, iterations=100; total time= 1.6min\n",
      "[CV] END ............................depth=8, iterations=100; total time= 1.6min\n",
      "[CV] END ............................depth=8, iterations=100; total time= 1.6min\n",
      "[CV] END ............................depth=6, iterations=500; total time= 6.0min\n",
      "[CV] END ............................depth=6, iterations=500; total time= 5.9min\n",
      "[CV] END ...........................depth=6, iterations=1000; total time=11.6min\n",
      "[CV] END ...........................depth=6, iterations=1000; total time=11.6min\n",
      "[CV] END ............................depth=8, iterations=100; total time= 1.5min\n",
      "[CV] END ............................depth=8, iterations=500; total time= 7.4min\n",
      "[CV] END ...........................depth=8, iterations=1000; total time=14.6min\n",
      "[CV] END ............................depth=8, iterations=100; total time= 1.5min\n",
      "[CV] END ............................depth=8, iterations=500; total time= 7.3min\n",
      "[CV] END ...........................depth=8, iterations=1000; total time=14.7min\n",
      "[CV] END ...........................depth=6, iterations=1000; total time=11.5min\n",
      "[CV] END ............................depth=8, iterations=500; total time= 7.3min\n",
      "[CV] END ...........................depth=8, iterations=1000; total time=13.2min\n",
      "[CV] END ............................depth=8, iterations=500; total time= 7.4min\n",
      "[CV] END ............................depth=8, iterations=500; total time= 7.3min\n",
      "[CV] END ...........................depth=8, iterations=1000; total time=12.8min\n",
      "\n",
      "Лучшие параметры:  {'depth': 6, 'iterations': 1000}\n",
      "Лучший F1-скор на кросс-валидации:  0.9047311732883051\n",
      "\n",
      "Отчет о классификации на валидационных данных:\n",
      "              precision    recall  f1-score   support\n",
      "\n",
      "           0       0.95      0.97      0.96    570016\n",
      "           1       0.92      0.89      0.90    237226\n",
      "\n",
      "    accuracy                           0.95    807242\n",
      "   macro avg       0.94      0.93      0.93    807242\n",
      "weighted avg       0.94      0.95      0.94    807242\n",
      "\n",
      "CPU times: user 48min 58s, sys: 1min 10s, total: 50min 8s\n",
      "Wall time: 1h 15min 19s\n",
      "[CV] END ...........................depth=8, iterations=1000; total time= 6.1min\n"
     ]
    }
   ],
   "source": [
    "%%time\n",
    "# Настройка модели\n",
    "model = CatBoostClassifier(verbose=False, \n",
    "                           random_seed=42,\n",
    "                           auto_class_weights=\"Balanced\")\n",
    "\n",
    "# Параметры для GridSearch\n",
    "param_grid = {\n",
    "    'iterations': [100, 500, 1000],\n",
    "    'depth': [4, 6, 8],\n",
    "}\n",
    "\n",
    "# Инициализация GridSearchCV\n",
    "grid_search = GridSearchCV(\n",
    "    estimator=model,\n",
    "    param_grid=param_grid,\n",
    "    scoring='f1',  # Оптимизируем F1-метрику\n",
    "    cv=5,          # Стратифицированная кросс-валидация\n",
    "    verbose=2,\n",
    "    n_jobs=4      # Использую половину доступных ядер, дабы не убить ядро)\n",
    ")\n",
    "\n",
    "# Обучение GridSearch\n",
    "grid_search.fit(X_train, y_train)\n",
    "\n",
    "# Вывод лучших параметров и метрик\n",
    "print(\"\\nЛучшие параметры: \", grid_search.best_params_)\n",
    "print(\"Лучший F1-скор на кросс-валидации: \", grid_search.best_score_)\n",
    "\n",
    "# Оценка на валидационных данных\n",
    "best_model = grid_search.best_estimator_\n",
    "y_pred = best_model.predict(X_test)\n",
    "\n",
    "print(\"\\nОтчет о классификации на валидационных данных:\")\n",
    "print(classification_report(y_test, y_pred))"
   ]
  },
  {
   "cell_type": "markdown",
   "id": "af0b8432-fc45-4047-8dc7-194399f55b20",
   "metadata": {},
   "source": [
    "### Submission"
   ]
  },
  {
   "cell_type": "code",
   "execution_count": 108,
   "id": "bcdaa4f6-87c4-4a1b-a1fe-dce5b7a48779",
   "metadata": {},
   "outputs": [
    {
     "name": "stdout",
     "output_type": "stream",
     "text": [
      "Time is: 6.562875509262085 seconds\n"
     ]
    }
   ],
   "source": [
    "# forgot loan_id =)\n",
    "start = time.time()\n",
    "test_for_loan_id = pd.read_csv('./data/test.csv')\n",
    "elapsed = time.time() - start\n",
    "print(f'Time is: {elapsed} seconds')"
   ]
  },
  {
   "cell_type": "code",
   "execution_count": 110,
   "id": "cd4323f9-ee00-4194-b923-0ecc05fc10f0",
   "metadata": {},
   "outputs": [],
   "source": [
    "loan_id_test = test_for_loan_id['loan_id']"
   ]
  },
  {
   "cell_type": "code",
   "execution_count": 113,
   "id": "feb45a79-98f4-4d2a-b7c0-42e18e809112",
   "metadata": {},
   "outputs": [],
   "source": [
    "def submission(model, test_df, loan_id_submission, target_column='churn', output_prefix='submission_baseline'):\n",
    "    # Предсказания на тестовых данных\n",
    "    y_pred_test = model.predict(test_df)\n",
    "\n",
    "    # Подготовка DataFrame для сохранения\n",
    "    submission = pd.DataFrame({\n",
    "        'loan_id': loan_id_submission,\n",
    "        'churn': y_pred_test\n",
    "    })\n",
    "\n",
    "    # Формирование имени файла\n",
    "    model_name = type(model).__name__\n",
    "    output_file = f\"{output_prefix}_{model_name}.csv\"\n",
    "\n",
    "    # Сохранение файла\n",
    "    submission.to_csv(output_file, index=False)\n",
    "    print(f\"Предсказания сохранены в файл: {output_file}\")\n"
   ]
  },
  {
   "cell_type": "code",
   "execution_count": 114,
   "id": "7580c050-31af-4853-b611-1454c9b0b488",
   "metadata": {},
   "outputs": [
    {
     "name": "stdout",
     "output_type": "stream",
     "text": [
      "Предсказания сохранены в файл: submission_baseline_CatBoostClassifier.csv\n"
     ]
    }
   ],
   "source": [
    "best_model = grid_search.best_estimator_  # Это ваша лучшая модель\n",
    "submission(best_model, test, loan_id_test)"
   ]
  },
  {
   "cell_type": "markdown",
   "id": "160af36d-fb08-4ebf-b760-b913ed492154",
   "metadata": {},
   "source": [
    "Total score is: 0.90"
   ]
  },
  {
   "cell_type": "markdown",
   "id": "a767d651-5b5b-46c3-80c1-c5760224f022",
   "metadata": {},
   "source": [
    "### Важность прищнаков"
   ]
  },
  {
   "cell_type": "code",
   "execution_count": 115,
   "id": "078a36dd-9a84-459f-aab1-dab908ed96ee",
   "metadata": {},
   "outputs": [
    {
     "name": "stdout",
     "output_type": "stream",
     "text": [
      "             Feature  Importance\n",
      "65       total_loans   35.436169\n",
      "35        loan_order   33.847448\n",
      "71  income_variation    8.342554\n",
      "72    total_contacts    5.055944\n",
      "38        created_at    4.647810\n",
      "31       client_type    4.436390\n",
      "70    last_loan_date    4.238795\n",
      "27      first_source    0.806671\n",
      "26            source    0.775094\n",
      "39          start_dt    0.748526\n"
     ]
    }
   ],
   "source": [
    "# Получаем важность признаков\n",
    "feature_importances = best_model.get_feature_importance()\n",
    "\n",
    "# Создаем DataFrame с признаками и их важностью\n",
    "feature_names = X_train.columns  # Здесь X_train - это DataFrame с признаками\n",
    "importance_df = pd.DataFrame({\n",
    "    'Feature': feature_names,\n",
    "    'Importance': feature_importances\n",
    "})\n",
    "\n",
    "# Сортируем по убыванию важности\n",
    "importance_df = importance_df.sort_values(by='Importance', ascending=False)\n",
    "\n",
    "# Выводим топ-10 самых важных признаков\n",
    "print(importance_df.head(10))\n"
   ]
  },
  {
   "cell_type": "code",
   "execution_count": 123,
   "id": "be89f08f-707b-431f-b327-73c70a5d3bf0",
   "metadata": {},
   "outputs": [
    {
     "data": {
      "image/png": "[encoded data removed]",
      "text/plain": [
       "<Figure size 1000x600 with 1 Axes>"
      ]
     },
     "metadata": {},
     "output_type": "display_data"
    }
   ],
   "source": [
    "# Сортируем DataFrame по важности признаков (по убыванию)\n",
    "importance_df = importance_df.sort_values(by='Importance', ascending=False)\n",
    "\n",
    "# Визуализация 10 самых важных признаков\n",
    "plt.figure(figsize=(10, 6))\n",
    "plt.barh(importance_df['Feature'][:10], importance_df['Importance'][:10])\n",
    "plt.xlabel('Importance')\n",
    "plt.title('Top 10 Feature Importance')\n",
    "plt.gca().invert_yaxis()  # Чтобы наиболее важные признаки были сверху\n",
    "plt.show()"
   ]
  }
 ],
 "metadata": {
  "kernelspec": {
   "display_name": "Python 3 (ipykernel)",
   "language": "python",
   "name": "python3"
  },
  "language_info": {
   "codemirror_mode": {
    "name": "ipython",
    "version": 3
   },
   "file_extension": ".py",
   "mimetype": "text/x-python",
   "name": "python",
   "nbconvert_exporter": "python",
   "pygments_lexer": "ipython3",
   "version": "3.10.16"
  }
 },
 "nbformat": 4,
 "nbformat_minor": 5
}
